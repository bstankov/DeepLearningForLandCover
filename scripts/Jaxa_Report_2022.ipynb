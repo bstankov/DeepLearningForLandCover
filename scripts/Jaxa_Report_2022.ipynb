{
  "nbformat": 4,
  "nbformat_minor": 0,
  "metadata": {
    "colab": {
      "name": "Jaxa_Report_2022.ipynb",
      "provenance": [],
      "collapsed_sections": []
    },
    "kernelspec": {
      "name": "python3",
      "display_name": "Python 3"
    },
    "language_info": {
      "name": "python"
    }
  },
  "cells": [
    {
      "cell_type": "code",
      "source": [
        ""
      ],
      "metadata": {
        "id": "_Xh_-HuKy1wv"
      },
      "execution_count": null,
      "outputs": []
    },
    {
      "cell_type": "markdown",
      "source": [
        "## Jaxa_Report_2022 on use of ALOS-2 data\n",
        "\n",
        "#### created March 2022 for fuel update in F20 forest management unit\n",
        "\n",
        "#### Land cover satellite imagery classification of multisource data\n",
        "#### ALOS-2  and Sentinel-2 data"
      ],
      "metadata": {
        "id": "OwXxAlgqy2be"
      }
    },
    {
      "cell_type": "markdown",
      "source": [
        "\n",
        "Step 1: Our collected training sites polygons have ASLC codes (i.e. 40, 51..552) We convert this polygons shape file to a raster using ASLC code for value and attach this raster layer to our Sent-2 image. Now, we have a stack of 11 chanel image including 10 Sentinel-2 bands and 1 chanel indicating ASLC codes from ground truth.\n",
        "\n",
        "Step 2: Now, we run following 'play_vec.py' to generate point at each cell within our training polygons. In addition to this shapefile, this script converts ground truth shapefile to raster but needs a fix to assign correct ASLC code to each raster cell"
      ],
      "metadata": {
        "id": "p5Hx-DTzzlFQ"
      }
    },
    {
      "cell_type": "code",
      "execution_count": null,
      "metadata": {
        "id": "tmXxSXCCPt_d"
      },
      "outputs": [],
      "source": [
        "import ogr, os, sys\n",
        "import numpy as np\n",
        "import random\n",
        "import gdal\n",
        "import sys,os\n",
        "try:\n",
        "    from osgeo import ogr, osr, gdal\n",
        "except:\n",
        "    sys.exit('ERROR: cannot find GDAL/OGR modules')\n",
        "from shapely.geometry import Polygon, Point\n",
        "version_num = int(gdal.VersionInfo('VERSION_NUM'))\n",
        "from osgeo import osr,ogr\n",
        "if version_num < 1100000:\n",
        "    sys.exit('ERROR: Python bindings of GDAL 1.10 or later required')\n",
        "\n",
        "import shapely.wkt\n",
        "from shapely.geometry import Point, Polygon\n",
        "from shapely import speedups\n",
        "import osgeo.ogr, osgeo.osr\n",
        "#open an image and get info ......\n",
        "gdal.UseExceptions()"
      ]
    },
    {
      "cell_type": "code",
      "source": [
        "!pwd\n",
        "# !pip install — upgrade bamboolib — user   # WORKS ONLY IN JUPYTER NOTEBOOK\n",
        "#import bamboolib as bam\n",
        "# !pip install fiona\n",
        "!pip install pyrsgis\n",
        "!pip install rasterio\n",
        "!pip install scikit-learn"
      ],
      "metadata": {
        "colab": {
          "base_uri": "https://localhost:8080/"
        },
        "id": "mZmKho6wQHjU",
        "outputId": "663deb9c-41c5-407d-ff72-273588a14e21"
      },
      "execution_count": null,
      "outputs": [
        {
          "output_type": "stream",
          "name": "stdout",
          "text": [
            "/content\n",
            "Collecting pyrsgis\n",
            "  Downloading pyrsgis-0.4.1-py3-none-any.whl (25 kB)\n",
            "Installing collected packages: pyrsgis\n",
            "Successfully installed pyrsgis-0.4.1\n",
            "Collecting rasterio\n",
            "  Downloading rasterio-1.2.10-cp37-cp37m-manylinux1_x86_64.whl (19.3 MB)\n",
            "\u001b[K     |████████████████████████████████| 19.3 MB 4.6 MB/s \n",
            "\u001b[?25hCollecting affine\n",
            "  Downloading affine-2.3.0-py2.py3-none-any.whl (15 kB)\n",
            "Collecting cligj>=0.5\n",
            "  Downloading cligj-0.7.2-py3-none-any.whl (7.1 kB)\n",
            "Requirement already satisfied: attrs in /usr/local/lib/python3.7/dist-packages (from rasterio) (21.4.0)\n",
            "Requirement already satisfied: numpy in /usr/local/lib/python3.7/dist-packages (from rasterio) (1.21.5)\n",
            "Collecting click-plugins\n",
            "  Downloading click_plugins-1.1.1-py2.py3-none-any.whl (7.5 kB)\n",
            "Requirement already satisfied: setuptools in /usr/local/lib/python3.7/dist-packages (from rasterio) (57.4.0)\n",
            "Requirement already satisfied: click>=4.0 in /usr/local/lib/python3.7/dist-packages (from rasterio) (7.1.2)\n",
            "Collecting snuggs>=1.4.1\n",
            "  Downloading snuggs-1.4.7-py3-none-any.whl (5.4 kB)\n",
            "Requirement already satisfied: certifi in /usr/local/lib/python3.7/dist-packages (from rasterio) (2021.10.8)\n",
            "Requirement already satisfied: pyparsing>=2.1.6 in /usr/local/lib/python3.7/dist-packages (from snuggs>=1.4.1->rasterio) (3.0.7)\n",
            "Installing collected packages: snuggs, cligj, click-plugins, affine, rasterio\n",
            "Successfully installed affine-2.3.0 click-plugins-1.1.1 cligj-0.7.2 rasterio-1.2.10 snuggs-1.4.7\n",
            "Requirement already satisfied: scikit-learn in /usr/local/lib/python3.7/dist-packages (1.0.2)\n",
            "Requirement already satisfied: scipy>=1.1.0 in /usr/local/lib/python3.7/dist-packages (from scikit-learn) (1.4.1)\n",
            "Requirement already satisfied: threadpoolctl>=2.0.0 in /usr/local/lib/python3.7/dist-packages (from scikit-learn) (3.1.0)\n",
            "Requirement already satisfied: numpy>=1.14.6 in /usr/local/lib/python3.7/dist-packages (from scikit-learn) (1.21.5)\n",
            "Requirement already satisfied: joblib>=0.11 in /usr/local/lib/python3.7/dist-packages (from scikit-learn) (1.1.0)\n"
          ]
        }
      ]
    },
    {
      "cell_type": "code",
      "source": [
        "# os.mkdir(path)\n",
        "#Authenticate to Colab and Cloud\n",
        "from google.colab import auth\n",
        "auth.authenticate_user"
      ],
      "metadata": {
        "colab": {
          "base_uri": "https://localhost:8080/"
        },
        "id": "jq16QZ3DQNgj",
        "outputId": "a24fb9af-f04f-46e3-bf71-11a44730e5aa"
      },
      "execution_count": null,
      "outputs": [
        {
          "output_type": "execute_result",
          "data": {
            "text/plain": [
              "<function google.colab.auth.authenticate_user>"
            ]
          },
          "metadata": {},
          "execution_count": 3
        }
      ]
    },
    {
      "cell_type": "markdown",
      "source": [
        "### Mount drive so you can have control over your folders\n",
        "Authentication"
      ],
      "metadata": {
        "id": "HegjWxH8QYfW"
      }
    },
    {
      "cell_type": "code",
      "source": [
        "from google.colab import drive\n",
        "drive.mount('/content/deep_learn')"
      ],
      "metadata": {
        "colab": {
          "base_uri": "https://localhost:8080/"
        },
        "id": "FC4eZRN5QUcT",
        "outputId": "a0e8b4a0-f20d-4344-f42f-2690d91c1bf9"
      },
      "execution_count": null,
      "outputs": [
        {
          "output_type": "stream",
          "name": "stdout",
          "text": [
            "Mounted at /content/deep_learn\n"
          ]
        }
      ]
    },
    {
      "cell_type": "code",
      "source": [
        "#changd directory\n",
        "path = \"/content/deep_learn//MyDrive/Jaxa_2022\"\n",
        "%cd $path\n",
        "#%cd \"/content/deep_learn//MyDrive/Jaxa_2022\""
      ],
      "metadata": {
        "colab": {
          "base_uri": "https://localhost:8080/"
        },
        "id": "H0nH0BibQjXD",
        "outputId": "02af8f86-49ba-46f6-d832-ea82fc500617"
      },
      "execution_count": null,
      "outputs": [
        {
          "output_type": "stream",
          "name": "stdout",
          "text": [
            "/content/deep_learn/MyDrive/Jaxa_2022\n"
          ]
        }
      ]
    },
    {
      "cell_type": "code",
      "source": [
        "# upload files to your google drive\n",
        "from google.colab import files\n",
        "uploaded = files.upload()"
      ],
      "metadata": {
        "colab": {
          "resources": {
            "http://localhost:8080/nbextensions/google.colab/files.js": {
              "data": "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",
              "ok": true,
              "headers": [
                [
                  "content-type",
                  "application/javascript"
                ]
              ],
              "status": 200,
              "status_text": ""
            }
          },
          "base_uri": "https://localhost:8080/",
          "height": 73
        },
        "id": "ExWtv2yGRQ3n",
        "outputId": "0f50e171-1079-4c6b-9006-1a3e75ed4d7c"
      },
      "execution_count": null,
      "outputs": [
        {
          "output_type": "display_data",
          "data": {
            "text/plain": [
              "<IPython.core.display.HTML object>"
            ],
            "text/html": [
              "\n",
              "     <input type=\"file\" id=\"files-7f10ce6b-c0a2-4ae1-ba50-2bf1246b9ea1\" name=\"files[]\" multiple disabled\n",
              "        style=\"border:none\" />\n",
              "     <output id=\"result-7f10ce6b-c0a2-4ae1-ba50-2bf1246b9ea1\">\n",
              "      Upload widget is only available when the cell has been executed in the\n",
              "      current browser session. Please rerun this cell to enable.\n",
              "      </output>\n",
              "      <script src=\"/nbextensions/google.colab/files.js\"></script> "
            ]
          },
          "metadata": {}
        },
        {
          "output_type": "stream",
          "name": "stdout",
          "text": [
            "Saving S2_Ph_32611_20m_4Predict_1.tif to S2_Ph_32611_20m_4Predict_1.tif\n"
          ]
        }
      ]
    },
    {
      "cell_type": "code",
      "source": [
        "# IMPORT more LIBRARIES\n",
        "#Keras and TensorFlow are two packages for createing neural network models\n",
        "import numpy as np\n",
        "import os\n",
        "import pandas as pd\n",
        "from PIL import Image\n",
        "import tensorflow as tf\n",
        "from tensorflow import keras\n",
        "import matplotlib.pyplot as plt\n",
        "from sklearn.utils import shuffle\n",
        "from sklearn.model_selection import train_test_split\n",
        "#import NN layers and other components\n",
        "# from sklearn import datasets\n",
        "# Import Keras modules\n",
        "#\n",
        "from keras import models\n",
        "from keras import layers\n",
        "# from keras.utils import to_categorical\n",
        "from tensorflow.keras.utils import to_categorical\n",
        "import matplotlib.pyplot as plt\n",
        "import seaborn as sns\n",
        "from keras.layers import Input\n",
        "from keras.models import Sequential\n",
        "from keras.layers import Dense,Activation, BatchNormalization, Dropout\n",
        "from keras.regularizers import l2\n",
        "from keras import optimizers\n",
        "from sklearn.model_selection import train_test_split\n",
        "from sklearn import preprocessing\n",
        "from sklearn.metrics import f1_score\n",
        "from sklearn import metrics"
      ],
      "metadata": {
        "id": "y1_Rt1jiRW5H"
      },
      "execution_count": null,
      "outputs": []
    },
    {
      "cell_type": "code",
      "source": [
        "from keras.wrappers.scikit_learn import KerasClassifier\n",
        "from sklearn.model_selection import GridSearchCV\n",
        "from keras.utils import np_utils\n",
        "from sklearn.model_selection import cross_val_score\n",
        "from sklearn.model_selection import KFold\n",
        "from sklearn.preprocessing import LabelEncoder\n",
        "from sklearn.pipeline import Pipeline\n",
        "from keras.constraints import max_norm"
      ],
      "metadata": {
        "id": "mC17NOFERc0m"
      },
      "execution_count": null,
      "outputs": []
    },
    {
      "cell_type": "code",
      "source": [
        "!pwd"
      ],
      "metadata": {
        "colab": {
          "base_uri": "https://localhost:8080/"
        },
        "id": "LpbXYLgeLbMV",
        "outputId": "c322ab75-6a06-431f-a6c9-6fc836e1c594"
      },
      "execution_count": null,
      "outputs": [
        {
          "output_type": "stream",
          "name": "stdout",
          "text": [
            "/content/deep_learn/MyDrive/Jaxa_2022\n"
          ]
        }
      ]
    },
    {
      "cell_type": "code",
      "source": [
        "!ls"
      ],
      "metadata": {
        "colab": {
          "base_uri": "https://localhost:8080/"
        },
        "id": "TbvkDIGzRfXW",
        "outputId": "dddbbb6e-b6d0-456d-bd13-f3415b13c590"
      },
      "execution_count": null,
      "outputs": [
        {
          "output_type": "stream",
          "name": "stdout",
          "text": [
            "F20_pnts_clean_March14_.csv\t\t S2_Ph_32611_20m_4Predict_1.tif\n",
            "model_17class84pct_88.h5\t\t S2_Ph_32611_20m_4Predict.tif\n",
            "my_best_np_CVSearch_model_NORMal_1.hdf5\n"
          ]
        }
      ]
    },
    {
      "cell_type": "markdown",
      "source": [
        "### DATA PREPARATION\n",
        "Introduction:\n",
        "\n",
        "-For the start, We selected several ASLC classes burn-41, Sb-51, Pl-52, Sw-53, mixed conifer-54, decidusous-55 and water 80.\n",
        "\n",
        "-One atribute - 'ASLC_1' was added to the dataframe and id number from 1 to 7 was assigned to.\n",
        "\n",
        "-The rest of the data preparation included balancing and normalization. For balancing the data we used ~600 samples as average. therefore, some classes had to be up-sampled while others had to be down-sampled. There are many ways to normalize the data, but in this case we used Std and mean to bring them under standardized normal distribution\n",
        "\n",
        "-to be able to measure the quality of our model we did SPLIT the data onto training set and validation set in ratio 8:2\n",
        "\n",
        "Then we created an initial model where we used parameters generated from GridSearchCV during optimatzation process."
      ],
      "metadata": {
        "id": "4BisoNvwRnZs"
      }
    },
    {
      "cell_type": "code",
      "source": [
        "# dataset_ar = np.loadtxt('F20_4_DL_14Nov.csv', delimiter=\",\" ,skiprows=1) #\n",
        "# fix random seed for reproducibility\n",
        "seed = 7\n",
        "np.random.seed(seed)\n",
        "# load dataset\n",
        "filename =  'F20_pnts_clean_March14_.csv'  \n",
        "# missing_values = [\"n/a\", \"na\", \"--\", 0]\n",
        "#dataset = pd.read_csv(filename,na_values = missing_values)\n",
        "dataset_ar = pd.read_csv(filename)\n",
        "# dataset = pd.read_csv(filename, header = None)\n",
        "list(dataset_ar)\n",
        "#ASLC are  codes i.e. 51, 52,55..\n",
        "#ASLC_ are id from 1 to 20 (total number of clases)"
      ],
      "metadata": {
        "colab": {
          "base_uri": "https://localhost:8080/"
        },
        "id": "1jMP5coRRi1M",
        "outputId": "607696bf-03bf-4ad3-ae14-46f7e233a9d5"
      },
      "execution_count": null,
      "outputs": [
        {
          "output_type": "execute_result",
          "data": {
            "text/plain": [
              "['X',\n",
              " 'Y',\n",
              " 'Z',\n",
              " 'id',\n",
              " 'B2',\n",
              " 'B3',\n",
              " 'B4',\n",
              " 'B5',\n",
              " 'B6',\n",
              " 'B7',\n",
              " 'B8',\n",
              " 'B8A',\n",
              " 'B11',\n",
              " 'B12',\n",
              " 'Phi',\n",
              " 'ASLC',\n",
              " 'Latitude',\n",
              " 'Longitude',\n",
              " 'ASLC_']"
            ]
          },
          "metadata": {},
          "execution_count": 15
        }
      ]
    },
    {
      "cell_type": "code",
      "source": [
        "dataset_ar.tail()"
      ],
      "metadata": {
        "colab": {
          "base_uri": "https://localhost:8080/",
          "height": 206
        },
        "id": "dS645YF9FJuU",
        "outputId": "c626fd6b-b075-4832-c705-96d864050c10"
      },
      "execution_count": null,
      "outputs": [
        {
          "output_type": "execute_result",
          "data": {
            "text/plain": [
              "                X            Y  Z    id   B2   B3   B4   B5   B6    B7    B8  \\\n",
              "5678  371348.0284  6569848.128  0  2940  291  590  383  248  582  1669  2027   \n",
              "5679  371368.0284  6569848.128  0  2941  277  624  410  270  640  1744  2084   \n",
              "5680  371328.0284  6569828.128  0  2968  296  612  393  255  626  1757  2143   \n",
              "5681  371348.0284  6569828.128  0  2969  299  619  438  288  621  1775  2129   \n",
              "5682  371368.0284  6569828.128  0  2970  270  643  393  269  634  1779  2125   \n",
              "\n",
              "       B8A   B11   B12       Phi  ASLC     Latitude    Longitude  ASLC_  \n",
              "5678  2020  2166  1266  0.867016   552  371348.0284  6569848.128     17  \n",
              "5679  2124  2277  1310  0.648082   552  371368.0284  6569848.128     17  \n",
              "5680  2166  2337  1286  0.913669   552  371328.0284  6569828.128     17  \n",
              "5681  2297  2262  1286  0.828769   552  371348.0284  6569828.128     17  \n",
              "5682  2192  2264  1341  0.722980   552  371368.0284  6569828.128     17  "
            ],
            "text/html": [
              "\n",
              "  <div id=\"df-79bb2871-045b-478d-832d-a65782f91d10\">\n",
              "    <div class=\"colab-df-container\">\n",
              "      <div>\n",
              "<style scoped>\n",
              "    .dataframe tbody tr th:only-of-type {\n",
              "        vertical-align: middle;\n",
              "    }\n",
              "\n",
              "    .dataframe tbody tr th {\n",
              "        vertical-align: top;\n",
              "    }\n",
              "\n",
              "    .dataframe thead th {\n",
              "        text-align: right;\n",
              "    }\n",
              "</style>\n",
              "<table border=\"1\" class=\"dataframe\">\n",
              "  <thead>\n",
              "    <tr style=\"text-align: right;\">\n",
              "      <th></th>\n",
              "      <th>X</th>\n",
              "      <th>Y</th>\n",
              "      <th>Z</th>\n",
              "      <th>id</th>\n",
              "      <th>B2</th>\n",
              "      <th>B3</th>\n",
              "      <th>B4</th>\n",
              "      <th>B5</th>\n",
              "      <th>B6</th>\n",
              "      <th>B7</th>\n",
              "      <th>B8</th>\n",
              "      <th>B8A</th>\n",
              "      <th>B11</th>\n",
              "      <th>B12</th>\n",
              "      <th>Phi</th>\n",
              "      <th>ASLC</th>\n",
              "      <th>Latitude</th>\n",
              "      <th>Longitude</th>\n",
              "      <th>ASLC_</th>\n",
              "    </tr>\n",
              "  </thead>\n",
              "  <tbody>\n",
              "    <tr>\n",
              "      <th>5678</th>\n",
              "      <td>371348.0284</td>\n",
              "      <td>6569848.128</td>\n",
              "      <td>0</td>\n",
              "      <td>2940</td>\n",
              "      <td>291</td>\n",
              "      <td>590</td>\n",
              "      <td>383</td>\n",
              "      <td>248</td>\n",
              "      <td>582</td>\n",
              "      <td>1669</td>\n",
              "      <td>2027</td>\n",
              "      <td>2020</td>\n",
              "      <td>2166</td>\n",
              "      <td>1266</td>\n",
              "      <td>0.867016</td>\n",
              "      <td>552</td>\n",
              "      <td>371348.0284</td>\n",
              "      <td>6569848.128</td>\n",
              "      <td>17</td>\n",
              "    </tr>\n",
              "    <tr>\n",
              "      <th>5679</th>\n",
              "      <td>371368.0284</td>\n",
              "      <td>6569848.128</td>\n",
              "      <td>0</td>\n",
              "      <td>2941</td>\n",
              "      <td>277</td>\n",
              "      <td>624</td>\n",
              "      <td>410</td>\n",
              "      <td>270</td>\n",
              "      <td>640</td>\n",
              "      <td>1744</td>\n",
              "      <td>2084</td>\n",
              "      <td>2124</td>\n",
              "      <td>2277</td>\n",
              "      <td>1310</td>\n",
              "      <td>0.648082</td>\n",
              "      <td>552</td>\n",
              "      <td>371368.0284</td>\n",
              "      <td>6569848.128</td>\n",
              "      <td>17</td>\n",
              "    </tr>\n",
              "    <tr>\n",
              "      <th>5680</th>\n",
              "      <td>371328.0284</td>\n",
              "      <td>6569828.128</td>\n",
              "      <td>0</td>\n",
              "      <td>2968</td>\n",
              "      <td>296</td>\n",
              "      <td>612</td>\n",
              "      <td>393</td>\n",
              "      <td>255</td>\n",
              "      <td>626</td>\n",
              "      <td>1757</td>\n",
              "      <td>2143</td>\n",
              "      <td>2166</td>\n",
              "      <td>2337</td>\n",
              "      <td>1286</td>\n",
              "      <td>0.913669</td>\n",
              "      <td>552</td>\n",
              "      <td>371328.0284</td>\n",
              "      <td>6569828.128</td>\n",
              "      <td>17</td>\n",
              "    </tr>\n",
              "    <tr>\n",
              "      <th>5681</th>\n",
              "      <td>371348.0284</td>\n",
              "      <td>6569828.128</td>\n",
              "      <td>0</td>\n",
              "      <td>2969</td>\n",
              "      <td>299</td>\n",
              "      <td>619</td>\n",
              "      <td>438</td>\n",
              "      <td>288</td>\n",
              "      <td>621</td>\n",
              "      <td>1775</td>\n",
              "      <td>2129</td>\n",
              "      <td>2297</td>\n",
              "      <td>2262</td>\n",
              "      <td>1286</td>\n",
              "      <td>0.828769</td>\n",
              "      <td>552</td>\n",
              "      <td>371348.0284</td>\n",
              "      <td>6569828.128</td>\n",
              "      <td>17</td>\n",
              "    </tr>\n",
              "    <tr>\n",
              "      <th>5682</th>\n",
              "      <td>371368.0284</td>\n",
              "      <td>6569828.128</td>\n",
              "      <td>0</td>\n",
              "      <td>2970</td>\n",
              "      <td>270</td>\n",
              "      <td>643</td>\n",
              "      <td>393</td>\n",
              "      <td>269</td>\n",
              "      <td>634</td>\n",
              "      <td>1779</td>\n",
              "      <td>2125</td>\n",
              "      <td>2192</td>\n",
              "      <td>2264</td>\n",
              "      <td>1341</td>\n",
              "      <td>0.722980</td>\n",
              "      <td>552</td>\n",
              "      <td>371368.0284</td>\n",
              "      <td>6569828.128</td>\n",
              "      <td>17</td>\n",
              "    </tr>\n",
              "  </tbody>\n",
              "</table>\n",
              "</div>\n",
              "      <button class=\"colab-df-convert\" onclick=\"convertToInteractive('df-79bb2871-045b-478d-832d-a65782f91d10')\"\n",
              "              title=\"Convert this dataframe to an interactive table.\"\n",
              "              style=\"display:none;\">\n",
              "        \n",
              "  <svg xmlns=\"http://www.w3.org/2000/svg\" height=\"24px\"viewBox=\"0 0 24 24\"\n",
              "       width=\"24px\">\n",
              "    <path d=\"M0 0h24v24H0V0z\" fill=\"none\"/>\n",
              "    <path d=\"M18.56 5.44l.94 2.06.94-2.06 2.06-.94-2.06-.94-.94-2.06-.94 2.06-2.06.94zm-11 1L8.5 8.5l.94-2.06 2.06-.94-2.06-.94L8.5 2.5l-.94 2.06-2.06.94zm10 10l.94 2.06.94-2.06 2.06-.94-2.06-.94-.94-2.06-.94 2.06-2.06.94z\"/><path d=\"M17.41 7.96l-1.37-1.37c-.4-.4-.92-.59-1.43-.59-.52 0-1.04.2-1.43.59L10.3 9.45l-7.72 7.72c-.78.78-.78 2.05 0 2.83L4 21.41c.39.39.9.59 1.41.59.51 0 1.02-.2 1.41-.59l7.78-7.78 2.81-2.81c.8-.78.8-2.07 0-2.86zM5.41 20L4 18.59l7.72-7.72 1.47 1.35L5.41 20z\"/>\n",
              "  </svg>\n",
              "      </button>\n",
              "      \n",
              "  <style>\n",
              "    .colab-df-container {\n",
              "      display:flex;\n",
              "      flex-wrap:wrap;\n",
              "      gap: 12px;\n",
              "    }\n",
              "\n",
              "    .colab-df-convert {\n",
              "      background-color: #E8F0FE;\n",
              "      border: none;\n",
              "      border-radius: 50%;\n",
              "      cursor: pointer;\n",
              "      display: none;\n",
              "      fill: #1967D2;\n",
              "      height: 32px;\n",
              "      padding: 0 0 0 0;\n",
              "      width: 32px;\n",
              "    }\n",
              "\n",
              "    .colab-df-convert:hover {\n",
              "      background-color: #E2EBFA;\n",
              "      box-shadow: 0px 1px 2px rgba(60, 64, 67, 0.3), 0px 1px 3px 1px rgba(60, 64, 67, 0.15);\n",
              "      fill: #174EA6;\n",
              "    }\n",
              "\n",
              "    [theme=dark] .colab-df-convert {\n",
              "      background-color: #3B4455;\n",
              "      fill: #D2E3FC;\n",
              "    }\n",
              "\n",
              "    [theme=dark] .colab-df-convert:hover {\n",
              "      background-color: #434B5C;\n",
              "      box-shadow: 0px 1px 3px 1px rgba(0, 0, 0, 0.15);\n",
              "      filter: drop-shadow(0px 1px 2px rgba(0, 0, 0, 0.3));\n",
              "      fill: #FFFFFF;\n",
              "    }\n",
              "  </style>\n",
              "\n",
              "      <script>\n",
              "        const buttonEl =\n",
              "          document.querySelector('#df-79bb2871-045b-478d-832d-a65782f91d10 button.colab-df-convert');\n",
              "        buttonEl.style.display =\n",
              "          google.colab.kernel.accessAllowed ? 'block' : 'none';\n",
              "\n",
              "        async function convertToInteractive(key) {\n",
              "          const element = document.querySelector('#df-79bb2871-045b-478d-832d-a65782f91d10');\n",
              "          const dataTable =\n",
              "            await google.colab.kernel.invokeFunction('convertToInteractive',\n",
              "                                                     [key], {});\n",
              "          if (!dataTable) return;\n",
              "\n",
              "          const docLinkHtml = 'Like what you see? Visit the ' +\n",
              "            '<a target=\"_blank\" href=https://colab.research.google.com/notebooks/data_table.ipynb>data table notebook</a>'\n",
              "            + ' to learn more about interactive tables.';\n",
              "          element.innerHTML = '';\n",
              "          dataTable['output_type'] = 'display_data';\n",
              "          await google.colab.output.renderOutput(dataTable, element);\n",
              "          const docLink = document.createElement('div');\n",
              "          docLink.innerHTML = docLinkHtml;\n",
              "          element.appendChild(docLink);\n",
              "        }\n",
              "      </script>\n",
              "    </div>\n",
              "  </div>\n",
              "  "
            ]
          },
          "metadata": {},
          "execution_count": 16
        }
      ]
    },
    {
      "cell_type": "markdown",
      "source": [
        "### number of points(samples) for each ASLC class"
      ],
      "metadata": {
        "id": "ttLP6CYYIfuM"
      }
    },
    {
      "cell_type": "code",
      "source": [
        "unique, counts = np.unique(dataset_ar['ASLC_'], return_counts=True)\n",
        "list(zip(unique, counts))\n",
        "# dataset['ASLC'].unique()"
      ],
      "metadata": {
        "colab": {
          "base_uri": "https://localhost:8080/"
        },
        "id": "4exds80tFU3H",
        "outputId": "170a00d4-d631-4d57-dbee-6c0b016e90f6"
      },
      "execution_count": null,
      "outputs": [
        {
          "output_type": "execute_result",
          "data": {
            "text/plain": [
              "[(1, 560),\n",
              " (2, 447),\n",
              " (3, 84),\n",
              " (4, 1085),\n",
              " (5, 186),\n",
              " (6, 362),\n",
              " (7, 206),\n",
              " (8, 217),\n",
              " (9, 776),\n",
              " (10, 92),\n",
              " (11, 58),\n",
              " (12, 219),\n",
              " (13, 141),\n",
              " (14, 594),\n",
              " (15, 40),\n",
              " (16, 593),\n",
              " (17, 23)]"
            ]
          },
          "metadata": {},
          "execution_count": 17
        }
      ]
    },
    {
      "cell_type": "code",
      "source": [
        "#subset the dataset for columns we need. The features are Bands from B3 to B12. We excluded B2 (10m) just for sake\n",
        "#of dimension reduction. \n",
        "\n",
        "dssel =dataset_ar[['B3','B4','B5', 'B6','B7', 'B8','B8A','B11','B12','Phi','ASLC_']]  #passing a list to it select multi cols. ASLC_ is (1-18)5\n",
        "clasto10 = dssel[dssel[\"ASLC_\"].isin([1,2,3,4,5,6,7,8,9,10,11,12,13,14,15,16,17])]\n",
        "#clas6 = dssel[dssel[\"ASLC_\"] < 6]\n",
        "clasto10.tail()"
      ],
      "metadata": {
        "colab": {
          "base_uri": "https://localhost:8080/",
          "height": 206
        },
        "id": "K3bilwxCFa13",
        "outputId": "5d5a1911-4464-4bf1-c375-4b5d76e6950b"
      },
      "execution_count": null,
      "outputs": [
        {
          "output_type": "execute_result",
          "data": {
            "text/plain": [
              "       B3   B4   B5   B6    B7    B8   B8A   B11   B12       Phi  ASLC_\n",
              "5678  590  383  248  582  1669  2027  2020  2166  1266  0.867016     17\n",
              "5679  624  410  270  640  1744  2084  2124  2277  1310  0.648082     17\n",
              "5680  612  393  255  626  1757  2143  2166  2337  1286  0.913669     17\n",
              "5681  619  438  288  621  1775  2129  2297  2262  1286  0.828769     17\n",
              "5682  643  393  269  634  1779  2125  2192  2264  1341  0.722980     17"
            ],
            "text/html": [
              "\n",
              "  <div id=\"df-e29940e2-68be-4e80-bc07-1d5646d40d4b\">\n",
              "    <div class=\"colab-df-container\">\n",
              "      <div>\n",
              "<style scoped>\n",
              "    .dataframe tbody tr th:only-of-type {\n",
              "        vertical-align: middle;\n",
              "    }\n",
              "\n",
              "    .dataframe tbody tr th {\n",
              "        vertical-align: top;\n",
              "    }\n",
              "\n",
              "    .dataframe thead th {\n",
              "        text-align: right;\n",
              "    }\n",
              "</style>\n",
              "<table border=\"1\" class=\"dataframe\">\n",
              "  <thead>\n",
              "    <tr style=\"text-align: right;\">\n",
              "      <th></th>\n",
              "      <th>B3</th>\n",
              "      <th>B4</th>\n",
              "      <th>B5</th>\n",
              "      <th>B6</th>\n",
              "      <th>B7</th>\n",
              "      <th>B8</th>\n",
              "      <th>B8A</th>\n",
              "      <th>B11</th>\n",
              "      <th>B12</th>\n",
              "      <th>Phi</th>\n",
              "      <th>ASLC_</th>\n",
              "    </tr>\n",
              "  </thead>\n",
              "  <tbody>\n",
              "    <tr>\n",
              "      <th>5678</th>\n",
              "      <td>590</td>\n",
              "      <td>383</td>\n",
              "      <td>248</td>\n",
              "      <td>582</td>\n",
              "      <td>1669</td>\n",
              "      <td>2027</td>\n",
              "      <td>2020</td>\n",
              "      <td>2166</td>\n",
              "      <td>1266</td>\n",
              "      <td>0.867016</td>\n",
              "      <td>17</td>\n",
              "    </tr>\n",
              "    <tr>\n",
              "      <th>5679</th>\n",
              "      <td>624</td>\n",
              "      <td>410</td>\n",
              "      <td>270</td>\n",
              "      <td>640</td>\n",
              "      <td>1744</td>\n",
              "      <td>2084</td>\n",
              "      <td>2124</td>\n",
              "      <td>2277</td>\n",
              "      <td>1310</td>\n",
              "      <td>0.648082</td>\n",
              "      <td>17</td>\n",
              "    </tr>\n",
              "    <tr>\n",
              "      <th>5680</th>\n",
              "      <td>612</td>\n",
              "      <td>393</td>\n",
              "      <td>255</td>\n",
              "      <td>626</td>\n",
              "      <td>1757</td>\n",
              "      <td>2143</td>\n",
              "      <td>2166</td>\n",
              "      <td>2337</td>\n",
              "      <td>1286</td>\n",
              "      <td>0.913669</td>\n",
              "      <td>17</td>\n",
              "    </tr>\n",
              "    <tr>\n",
              "      <th>5681</th>\n",
              "      <td>619</td>\n",
              "      <td>438</td>\n",
              "      <td>288</td>\n",
              "      <td>621</td>\n",
              "      <td>1775</td>\n",
              "      <td>2129</td>\n",
              "      <td>2297</td>\n",
              "      <td>2262</td>\n",
              "      <td>1286</td>\n",
              "      <td>0.828769</td>\n",
              "      <td>17</td>\n",
              "    </tr>\n",
              "    <tr>\n",
              "      <th>5682</th>\n",
              "      <td>643</td>\n",
              "      <td>393</td>\n",
              "      <td>269</td>\n",
              "      <td>634</td>\n",
              "      <td>1779</td>\n",
              "      <td>2125</td>\n",
              "      <td>2192</td>\n",
              "      <td>2264</td>\n",
              "      <td>1341</td>\n",
              "      <td>0.722980</td>\n",
              "      <td>17</td>\n",
              "    </tr>\n",
              "  </tbody>\n",
              "</table>\n",
              "</div>\n",
              "      <button class=\"colab-df-convert\" onclick=\"convertToInteractive('df-e29940e2-68be-4e80-bc07-1d5646d40d4b')\"\n",
              "              title=\"Convert this dataframe to an interactive table.\"\n",
              "              style=\"display:none;\">\n",
              "        \n",
              "  <svg xmlns=\"http://www.w3.org/2000/svg\" height=\"24px\"viewBox=\"0 0 24 24\"\n",
              "       width=\"24px\">\n",
              "    <path d=\"M0 0h24v24H0V0z\" fill=\"none\"/>\n",
              "    <path d=\"M18.56 5.44l.94 2.06.94-2.06 2.06-.94-2.06-.94-.94-2.06-.94 2.06-2.06.94zm-11 1L8.5 8.5l.94-2.06 2.06-.94-2.06-.94L8.5 2.5l-.94 2.06-2.06.94zm10 10l.94 2.06.94-2.06 2.06-.94-2.06-.94-.94-2.06-.94 2.06-2.06.94z\"/><path d=\"M17.41 7.96l-1.37-1.37c-.4-.4-.92-.59-1.43-.59-.52 0-1.04.2-1.43.59L10.3 9.45l-7.72 7.72c-.78.78-.78 2.05 0 2.83L4 21.41c.39.39.9.59 1.41.59.51 0 1.02-.2 1.41-.59l7.78-7.78 2.81-2.81c.8-.78.8-2.07 0-2.86zM5.41 20L4 18.59l7.72-7.72 1.47 1.35L5.41 20z\"/>\n",
              "  </svg>\n",
              "      </button>\n",
              "      \n",
              "  <style>\n",
              "    .colab-df-container {\n",
              "      display:flex;\n",
              "      flex-wrap:wrap;\n",
              "      gap: 12px;\n",
              "    }\n",
              "\n",
              "    .colab-df-convert {\n",
              "      background-color: #E8F0FE;\n",
              "      border: none;\n",
              "      border-radius: 50%;\n",
              "      cursor: pointer;\n",
              "      display: none;\n",
              "      fill: #1967D2;\n",
              "      height: 32px;\n",
              "      padding: 0 0 0 0;\n",
              "      width: 32px;\n",
              "    }\n",
              "\n",
              "    .colab-df-convert:hover {\n",
              "      background-color: #E2EBFA;\n",
              "      box-shadow: 0px 1px 2px rgba(60, 64, 67, 0.3), 0px 1px 3px 1px rgba(60, 64, 67, 0.15);\n",
              "      fill: #174EA6;\n",
              "    }\n",
              "\n",
              "    [theme=dark] .colab-df-convert {\n",
              "      background-color: #3B4455;\n",
              "      fill: #D2E3FC;\n",
              "    }\n",
              "\n",
              "    [theme=dark] .colab-df-convert:hover {\n",
              "      background-color: #434B5C;\n",
              "      box-shadow: 0px 1px 3px 1px rgba(0, 0, 0, 0.15);\n",
              "      filter: drop-shadow(0px 1px 2px rgba(0, 0, 0, 0.3));\n",
              "      fill: #FFFFFF;\n",
              "    }\n",
              "  </style>\n",
              "\n",
              "      <script>\n",
              "        const buttonEl =\n",
              "          document.querySelector('#df-e29940e2-68be-4e80-bc07-1d5646d40d4b button.colab-df-convert');\n",
              "        buttonEl.style.display =\n",
              "          google.colab.kernel.accessAllowed ? 'block' : 'none';\n",
              "\n",
              "        async function convertToInteractive(key) {\n",
              "          const element = document.querySelector('#df-e29940e2-68be-4e80-bc07-1d5646d40d4b');\n",
              "          const dataTable =\n",
              "            await google.colab.kernel.invokeFunction('convertToInteractive',\n",
              "                                                     [key], {});\n",
              "          if (!dataTable) return;\n",
              "\n",
              "          const docLinkHtml = 'Like what you see? Visit the ' +\n",
              "            '<a target=\"_blank\" href=https://colab.research.google.com/notebooks/data_table.ipynb>data table notebook</a>'\n",
              "            + ' to learn more about interactive tables.';\n",
              "          element.innerHTML = '';\n",
              "          dataTable['output_type'] = 'display_data';\n",
              "          await google.colab.output.renderOutput(dataTable, element);\n",
              "          const docLink = document.createElement('div');\n",
              "          docLink.innerHTML = docLinkHtml;\n",
              "          element.appendChild(docLink);\n",
              "        }\n",
              "      </script>\n",
              "    </div>\n",
              "  </div>\n",
              "  "
            ]
          },
          "metadata": {},
          "execution_count": 18
        }
      ]
    },
    {
      "cell_type": "markdown",
      "source": [
        "###  DATA BALANCING\n",
        "Balancing among classes is really important when it comes to accuracy assessment. First, we'll separate observations from each class into different DataFrames. \n",
        "\n",
        "Next, we'll resample the minority class with replacement, setting the number of samples to match that of the majority class.\n",
        "\n",
        "Finally, we'll combine the up-sampled minority class DataFrame with the original majority class DataFrame."
      ],
      "metadata": {
        "id": "jTtYqo_gOPt-"
      }
    },
    {
      "cell_type": "code",
      "source": [
        "from sklearn.utils import resample"
      ],
      "metadata": {
        "id": "7DO1Ute7NzTQ"
      },
      "execution_count": null,
      "outputs": []
    },
    {
      "cell_type": "code",
      "source": [
        "# Separate majority and minority classes\n",
        "#\"majority\"  means they stay without changes. while 'up' and 'down' means these\n",
        "#classes need to be upsampled and downsampled.\n",
        "df_1 = clasto10[clasto10.ASLC_==1]  #major ********stay the same\n",
        "df_2 = clasto10[clasto10.ASLC_==2]   #majority ******stay the same\n",
        "df_3 = clasto10[clasto10.ASLC_==3]  #up\n",
        "df_4 = clasto10[clasto10.ASLC_==4]   #down\n",
        "df_5 = clasto10[clasto10.ASLC_==5]    #up\n",
        "df_6 = clasto10[clasto10.ASLC_==6]   #up\n",
        "df_7 = clasto10[clasto10.ASLC_==7]    #up\n",
        "df_8 = clasto10[clasto10.ASLC_==8]  #up\n",
        "df_9 = clasto10[clasto10.ASLC_==9]   #down\n",
        "df_10 = clasto10[clasto10.ASLC_==10]  #up\n",
        "df_11 = clasto10[clasto10.ASLC_==11]   #up\n",
        "df_12 = clasto10[clasto10.ASLC_==12]    #up\n",
        "df_13 = clasto10[clasto10.ASLC_==13]   #up\n",
        "df_14 = clasto10[clasto10.ASLC_==14]    #major  ******stay the same\n",
        "df_15 = clasto10[clasto10.ASLC_==15]    #up\n",
        "df_16 = clasto10[clasto10.ASLC_==16]   #majority  ******stay the same\n",
        "df_17 = clasto10[clasto10.ASLC_==17]    #up\n",
        "# Upsample minority class\n",
        "df_3_upsampled = resample(df_3, replace=True,n_samples=500,random_state=123) \n",
        "df_5_upsampled = resample(df_5, replace=True,n_samples=500,random_state=123)\n",
        "df_6_upsampled = resample(df_6, replace=True,n_samples=500,random_state=123)  \n",
        "df_7_upsampled = resample(df_7, replace=True,n_samples=500,random_state=123)\n",
        "df_8_upsampled = resample(df_8, replace=True,n_samples=500,random_state=123)  \n",
        "df_10_upsampled = resample(df_10, replace=True,n_samples=500,random_state=123) \n",
        "df_11_upsampled = resample(df_11, replace=True,n_samples=500,random_state=123) \n",
        "df_12_upsampled = resample(df_12, replace=True,n_samples=500,random_state=123) \n",
        "df_13_upsampled = resample(df_13, replace=True,n_samples=500,random_state=123)\n",
        "df_15_upsampled = resample(df_15, replace=True,n_samples=500,random_state=123)  \n",
        "df_17_upsampled = resample(df_17, replace=True,n_samples=500,random_state=123) \n",
        "# Downsample majority class\n",
        "df_4_downsampled = resample(df_4, replace=False,    # sample without replacement\n",
        "                                 n_samples=500,     # to match minority class\n",
        "                                 random_state=123) # reproducible results\n",
        "df_9_downsampled = resample(df_9, replace=False,    # sample without replacement\n",
        "                                 n_samples=500,     # to match minority class\n",
        "                                 random_state=123) # reproducible results"
      ],
      "metadata": {
        "id": "Kv1A3tf0O8Tl"
      },
      "execution_count": null,
      "outputs": []
    },
    {
      "cell_type": "code",
      "source": [
        "# Combine minority class with downsampled majority class\n",
        "df_downUpsampled = pd.concat([df_1, df_2,df_3_upsampled ,df_4_downsampled,df_5_upsampled ,df_6_upsampled,df_7_upsampled,df_8_upsampled,df_9_downsampled,df_10_upsampled ,df_11_upsampled,df_12_upsampled,df_13_upsampled,df_14,df_15_upsampled,df_16,df_17_upsampled]) \n"
      ],
      "metadata": {
        "id": "1WDsrFoERNFX"
      },
      "execution_count": null,
      "outputs": []
    },
    {
      "cell_type": "code",
      "source": [
        "# Display new class counts\n",
        "df_downUpsampled.ASLC_.value_counts()"
      ],
      "metadata": {
        "colab": {
          "base_uri": "https://localhost:8080/"
        },
        "id": "OS7GXplJfNPp",
        "outputId": "f95053d5-1a52-4396-892f-64ae601d5014"
      },
      "execution_count": null,
      "outputs": [
        {
          "output_type": "execute_result",
          "data": {
            "text/plain": [
              "14    594\n",
              "16    593\n",
              "1     560\n",
              "10    500\n",
              "15    500\n",
              "13    500\n",
              "12    500\n",
              "11    500\n",
              "9     500\n",
              "8     500\n",
              "7     500\n",
              "6     500\n",
              "5     500\n",
              "4     500\n",
              "3     500\n",
              "17    500\n",
              "2     447\n",
              "Name: ASLC_, dtype: int64"
            ]
          },
          "metadata": {},
          "execution_count": 22
        }
      ]
    },
    {
      "cell_type": "code",
      "source": [
        "# dataset_ar[0:8,-1]  #last column of first 8 rows\n",
        "ds_array =df_downUpsampled.to_numpy()\n",
        "uniques, count = np.unique(ds_array[:,-1], return_counts=True)\n",
        "list(zip(uniques, count))"
      ],
      "metadata": {
        "colab": {
          "base_uri": "https://localhost:8080/"
        },
        "id": "C0P6js0xfSI3",
        "outputId": "0afb5ca4-fab5-49fa-e343-fc31a0324f3b"
      },
      "execution_count": null,
      "outputs": [
        {
          "output_type": "execute_result",
          "data": {
            "text/plain": [
              "[(1.0, 560),\n",
              " (2.0, 447),\n",
              " (3.0, 500),\n",
              " (4.0, 500),\n",
              " (5.0, 500),\n",
              " (6.0, 500),\n",
              " (7.0, 500),\n",
              " (8.0, 500),\n",
              " (9.0, 500),\n",
              " (10.0, 500),\n",
              " (11.0, 500),\n",
              " (12.0, 500),\n",
              " (13.0, 500),\n",
              " (14.0, 594),\n",
              " (15.0, 500),\n",
              " (16.0, 593),\n",
              " (17.0, 500)]"
            ]
          },
          "metadata": {},
          "execution_count": 23
        }
      ]
    },
    {
      "cell_type": "markdown",
      "source": [
        "### SPLITTING THE DATA INTO TRAIN AND TEST SUBDATASET"
      ],
      "metadata": {
        "id": "TG2RGbTSErs4"
      }
    },
    {
      "cell_type": "code",
      "source": [
        "#Step 3: Shuffle the rows before we start creating subsets for train and test data\n",
        "import random\n",
        "np.random.shuffle(ds_array)"
      ],
      "metadata": {
        "id": "PSOAW5V4fsKo"
      },
      "execution_count": null,
      "outputs": []
    },
    {
      "cell_type": "code",
      "source": [
        "#look at the last column to make sure that rows were shuffled\n",
        "ds_array.shape\n",
        "ds_array[0:5,10]"
      ],
      "metadata": {
        "colab": {
          "base_uri": "https://localhost:8080/"
        },
        "id": "y6sJtBKDEw9s",
        "outputId": "3227d4ed-fb66-457c-c884-0872247d910d"
      },
      "execution_count": null,
      "outputs": [
        {
          "output_type": "execute_result",
          "data": {
            "text/plain": [
              "array([16.,  5., 15.,  4., 14.])"
            ]
          },
          "metadata": {},
          "execution_count": 25
        }
      ]
    },
    {
      "cell_type": "code",
      "source": [
        "#Step 4: Split into Training/Validation Set in ratio 80:20\n",
        "\n",
        "index_20percent = int(0.2 * len(ds_array[:, 0]))  #finds 20% of 1599 which is length of ds = 320\n",
        "print(index_20percent)\n",
        "\n",
        "XVALIDATION = ds_array[:index_20percent, :-1] # takes all  first 320 rows until the last column.\n",
        "YVALIDATION = ds_array[:index_20percent, -1]  # takes all  first 320 rows JUst  last column.(labels)\n",
        "\n",
        "# XVALIDATION\n",
        "XTRAIN = ds_array[index_20percent:, 0:-1]  # takes all  rows from 320 to end  until the last column.\n",
        "YTRAIN = ds_array[index_20percent:, -1]   # takes all  rows after 320 th row JUST the last column.(labesl)"
      ],
      "metadata": {
        "colab": {
          "base_uri": "https://localhost:8080/"
        },
        "id": "u8lPYXI1GwQA",
        "outputId": "cd844772-1b9f-4442-ad66-34cc5230e846"
      },
      "execution_count": null,
      "outputs": [
        {
          "output_type": "stream",
          "name": "stdout",
          "text": [
            "1738\n"
          ]
        }
      ]
    },
    {
      "cell_type": "markdown",
      "source": [
        "### Encoding\n",
        "we need to transorm labels into an array. because labels can be strings or numbers and it is called 'hot encod' where label 1 and label 2 would look like [1. 0. 0. 0. 0. 0. 0.] [0. 1. 0. 0. 0. 0. 0.]"
      ],
      "metadata": {
        "id": "TqTNCWhBKgJk"
      }
    },
    {
      "cell_type": "code",
      "source": [
        "encoder = LabelEncoder()\n",
        "encoder.fit( YTRAIN)\n",
        "encoded_Y_tr = encoder.transform( YTRAIN)\n",
        "\n",
        "dummy_y_tr = np_utils.to_categorical(encoded_Y_tr)\n",
        "# train_labels1 = YTRAIN\n",
        "# train_labels = pd.get_dummies(train_labels1,prefix='Label')   #prefix 'Label' will be added to the table header in front 1.0, 2.0 etc\n",
        "# test_labels = pd.get_dummies(test_labels1,prefix='Label')\n",
        "# valid_labels = pd.get_dummies(valid_labels1,prefix='Label')\n",
        "encoder_v = LabelEncoder()\n",
        "encoder.fit( YVALIDATION)\n",
        "encoded_Y_val = encoder.transform(YVALIDATION)\n",
        "\n",
        "dummy_y_val= np_utils.to_categorical(encoded_Y_val)"
      ],
      "metadata": {
        "id": "ftvj2S1ZKXYi"
      },
      "execution_count": null,
      "outputs": []
    },
    {
      "cell_type": "code",
      "source": [
        "#when we do multiclass, then hot encoding is necessary\n",
        "print(dummy_y_tr)\n",
        "encoded_Y_tr"
      ],
      "metadata": {
        "colab": {
          "base_uri": "https://localhost:8080/"
        },
        "id": "WsWmuVdhKvgO",
        "outputId": "a2413531-37ad-4d4b-a229-58d11b244914"
      },
      "execution_count": null,
      "outputs": [
        {
          "output_type": "stream",
          "name": "stdout",
          "text": [
            "[[1. 0. 0. ... 0. 0. 0.]\n",
            " [0. 0. 0. ... 0. 0. 1.]\n",
            " [0. 0. 0. ... 0. 1. 0.]\n",
            " ...\n",
            " [0. 0. 0. ... 0. 0. 0.]\n",
            " [0. 0. 0. ... 0. 0. 0.]\n",
            " [1. 0. 0. ... 0. 0. 0.]]\n"
          ]
        },
        {
          "output_type": "execute_result",
          "data": {
            "text/plain": [
              "array([ 0, 16, 15, ...,  8, 11,  0])"
            ]
          },
          "metadata": {},
          "execution_count": 28
        }
      ]
    },
    {
      "cell_type": "code",
      "source": [
        "len(dummy_y_tr[0])  #number of classes"
      ],
      "metadata": {
        "colab": {
          "base_uri": "https://localhost:8080/"
        },
        "id": "QYiORkPeK3ow",
        "outputId": "d1cefb3a-0a66-459a-b131-847eeda3e06f"
      },
      "execution_count": null,
      "outputs": [
        {
          "output_type": "execute_result",
          "data": {
            "text/plain": [
              "17"
            ]
          },
          "metadata": {},
          "execution_count": 29
        }
      ]
    },
    {
      "cell_type": "markdown",
      "source": [
        "### NORMALIZATION FOR NUMPY ARRAY\n",
        "#### **********************************************"
      ],
      "metadata": {
        "id": "KdgYjhPPLYiF"
      }
    },
    {
      "cell_type": "code",
      "source": [
        "\n",
        "#axis =0 means vertical\n",
        "mean = XTRAIN.mean(axis=0) \n",
        "std = XTRAIN.std(axis=0)\n",
        "#x_train = x_train - mean\n",
        "\n",
        "XTRAIN = XTRAIN -mean  \n",
        "XTRAIN = XTRAIN/std\n",
        "\n",
        "XVALIDATION =XVALIDATION- mean  #x_validation = x_validation - mean\n",
        "XVALIDATION =XVALIDATION/ std    #x_validation = x_validation/std\n",
        "\n",
        "# # "
      ],
      "metadata": {
        "id": "27sqgIoVLJ8v"
      },
      "execution_count": null,
      "outputs": []
    },
    {
      "cell_type": "code",
      "source": [
        "mean.shape\n",
        "XTRAIN.shape"
      ],
      "metadata": {
        "colab": {
          "base_uri": "https://localhost:8080/"
        },
        "id": "tEWbOMlPLu4g",
        "outputId": "81b68edd-141c-4e4e-f3ce-15091e6f76f0"
      },
      "execution_count": null,
      "outputs": [
        {
          "output_type": "execute_result",
          "data": {
            "text/plain": [
              "(6956, 10)"
            ]
          },
          "metadata": {},
          "execution_count": 31
        }
      ]
    },
    {
      "cell_type": "code",
      "source": [
        "print(mean)\n",
        "print(std)\n",
        "#plot for normalized acidity\n",
        "plt.hist(XTRAIN[:, 0])\n",
        "plt.ylabel('B3 Column Sentinel2')\n",
        "plt.show()"
      ],
      "metadata": {
        "colab": {
          "base_uri": "https://localhost:8080/",
          "height": 368
        },
        "id": "MUfXuU4nL4Fg",
        "outputId": "58260cfd-78bc-4065-b46e-5e6693b976c9"
      },
      "execution_count": null,
      "outputs": [
        {
          "output_type": "stream",
          "name": "stdout",
          "text": [
            "[6.58570874e+02 4.31238212e+02 2.99894623e+02 6.37584675e+02\n",
            " 1.50215023e+03 1.75627803e+03 1.78663183e+03 1.89848088e+03\n",
            " 1.25548907e+03 6.21309168e-01]\n",
            "[3.55591314e+02 1.54104059e+02 1.33785076e+02 2.18764993e+02\n",
            " 5.04492112e+02 6.04754935e+02 6.37061734e+02 6.65748343e+02\n",
            " 5.16434332e+02 1.76304393e-01]\n"
          ]
        },
        {
          "output_type": "display_data",
          "data": {
            "text/plain": [
              "<Figure size 432x288 with 1 Axes>"
            ],
            "image/png": "[encoded data removed]"
          },
          "metadata": {
            "needs_background": "light"
          }
        }
      ]
    },
    {
      "cell_type": "code",
      "source": [
        "print(XTRAIN.shape)\n",
        "print(YTRAIN.shape)\n",
        "print(\"enc:\",encoded_Y_tr.shape)\n",
        "print(XVALIDATION.shape)\n",
        "print(YVALIDATION.shape)\n",
        "\n",
        "print(XTRAIN[0:3,])\n",
        "# print(YTRAIN[0:3])\n",
        "print(\"enc:\",encoded_Y_tr[0:3])\n",
        "print(XVALIDATION[0:3,])\n",
        "print(YVALIDATION[0:3])"
      ],
      "metadata": {
        "colab": {
          "base_uri": "https://localhost:8080/"
        },
        "id": "OFB63Mn4MITx",
        "outputId": "505798cf-e04a-4b1d-e766-a0a690d345d2"
      },
      "execution_count": null,
      "outputs": [
        {
          "output_type": "stream",
          "name": "stdout",
          "text": [
            "(6956, 10)\n",
            "(6956,)\n",
            "enc: (6956,)\n",
            "(1738, 10)\n",
            "(1738,)\n",
            "[[ 2.62500542 -0.26759978  0.75572986  0.97097493 -0.15689092 -0.2352656\n",
            "  -0.50015848 -0.32516924  1.66044523 -2.06041382]\n",
            " [ 0.28242851  1.1275614   0.44926817  0.47729449  0.94322539  0.91726737\n",
            "   0.9000198   0.83743223  0.58383207 -0.25808138]\n",
            " [-0.1619018  -0.33249099 -0.56728767  0.45443891  0.3545145   0.28560654\n",
            "  -0.06221034  0.36127633  0.02422559 -1.08888266]]\n",
            "enc: [ 0 16 15]\n",
            "[[ 0.05745114  0.67332288  0.59876168  1.00297274  0.66175419  0.53860159\n",
            "   0.57979965  0.58658669  0.16364312 -0.84709464]\n",
            " [-0.7018475  -0.65694708 -0.85132533 -0.6563421  -0.54143608 -0.52463902\n",
            "  -0.72619623 -0.56099408 -0.78517064  0.04921567]\n",
            " [ 0.15025431  2.77579832  2.39268375  1.62921553  0.56264462  0.41458441\n",
            "   0.54997523  0.51899359  0.36696035 -0.81622981]]\n",
            "[16.  5. 15.]\n"
          ]
        }
      ]
    },
    {
      "cell_type": "markdown",
      "source": [
        "### Create a neural network model\n",
        "A network with the following architecture:\n",
        "\n",
        "• 18 NEURONS with ruleOfthumb ~features*2\n",
        "\n",
        "• 8 neurons in layer 2, and"
      ],
      "metadata": {
        "id": "KSggfWmQMgk9"
      }
    },
    {
      "cell_type": "code",
      "source": [
        "#the best MODEL producing 84% accuracy WAS TUNED AND WE ASSEMBLE ANOTHER MODEL WITH NEW PARAMETERS\n",
        "from keras.wrappers.scikit_learn import KerasClassifier\n",
        "# Function to create model, required for KerasClassifier\n",
        "# # Input layer must have same input_shape as like number of features.\n",
        "# # In case of multi-class classification, you can use softmax function as activation function.\n",
        "# #No of neurons is 2*features\n",
        "  #create model\n",
        "network = models.Sequential()\n",
        "\n",
        "network.add(layers.Dense(512,input_shape=(10,),kernel_initializer='lecun_uniform',activation='sigmoid',kernel_constraint=max_norm(2)))\n",
        "#network.add(Dropout(0.1)) # Dropout is included if we have overfitting\n",
        "network.add(layers.Dense(256,activation='sigmoid'))\n",
        "network.add(layers.Dense(128,activation='sigmoid'))\n",
        "network.add(layers.Dense(64,activation='sigmoid'))\n",
        "network.add(layers.Dense(17,kernel_initializer='lecun_uniform',activation='softmax'))\n",
        "\n",
        "  #complle model\n",
        "  # optimizer=SGD(lr=learn_rate,momentum=momentum)\n",
        "network.compile(loss='categorical_crossentropy',optimizer='adam',metrics=['accuracy'])"
      ],
      "metadata": {
        "id": "zJwZQOlbMZkg"
      },
      "execution_count": null,
      "outputs": []
    },
    {
      "cell_type": "code",
      "source": [
        "\n",
        "from keras.callbacks import EarlyStopping,ModelCheckpoint\n",
        "# early stopping callback\n",
        "# This callback will stop the training when there is no improvement in  \n",
        "# the validation loss for 10 consecutive epochs.  \n",
        "# es = keras.callbacks.EarlyStopping(monitor='val_loss', mode = 'min',\n",
        "#                                    patience=10, \n",
        "#                                    restore_best_weights=True) \n",
        "#                          # important - otherwise you just return the last weigths.\n",
        "\n",
        "callback_a = keras.callbacks.ModelCheckpoint(filepath = 'my_best_np_CVSearch_model_NORMal_1.hdf5', monitor='val_loss', save_best_only = True, save_weights_only = True, verbose = 1)\n",
        "callback_b = keras.callbacks.EarlyStopping(monitor='val_loss', mode='min', patience=20,restore_best_weights=True, verbose=1)"
      ],
      "metadata": {
        "id": "us43FVLpPbBT"
      },
      "execution_count": null,
      "outputs": []
    },
    {
      "cell_type": "markdown",
      "source": [
        "### Fitting the model"
      ],
      "metadata": {
        "id": "Gk6OFjx4RIxB"
      }
    },
    {
      "cell_type": "code",
      "source": [
        "## XTRAIN, YTRAIN, validation_data=(XVALIDATION, YVALIDATION),\n",
        "# now we just update our model fit call\n",
        "history = network.fit(XTRAIN, dummy_y_tr, validation_data=(XVALIDATION,dummy_y_val),\n",
        "                    callbacks = [callback_a, callback_b],\n",
        "                    epochs=200, # you can set this to a big number!\n",
        "                    batch_size=60,\n",
        "                    shuffle=True,\n",
        "                    validation_split=0.2,\n",
        "                    verbose=1)"
      ],
      "metadata": {
        "colab": {
          "base_uri": "https://localhost:8080/"
        },
        "id": "pfuAwpslP9hE",
        "outputId": "4f3f2365-3ec9-4e14-eee2-e1b90e20fa10"
      },
      "execution_count": null,
      "outputs": [
        {
          "output_type": "stream",
          "name": "stdout",
          "text": [
            "Epoch 1/200\n",
            "90/93 [============================>.] - ETA: 0s - loss: 2.6480 - accuracy: 0.1226\n",
            "Epoch 1: val_loss improved from inf to 2.30319, saving model to my_best_np_CVSearch_model_NORMal_1.hdf5\n",
            "93/93 [==============================] - 2s 14ms/step - loss: 2.6387 - accuracy: 0.1240 - val_loss: 2.3032 - val_accuracy: 0.1983\n",
            "Epoch 2/200\n",
            "90/93 [============================>.] - ETA: 0s - loss: 2.1049 - accuracy: 0.2813\n",
            "Epoch 2: val_loss improved from 2.30319 to 1.92378, saving model to my_best_np_CVSearch_model_NORMal_1.hdf5\n",
            "93/93 [==============================] - 1s 8ms/step - loss: 2.0988 - accuracy: 0.2822 - val_loss: 1.9238 - val_accuracy: 0.2823\n",
            "Epoch 3/200\n",
            "93/93 [==============================] - ETA: 0s - loss: 1.8078 - accuracy: 0.3814\n",
            "Epoch 3: val_loss improved from 1.92378 to 1.68529, saving model to my_best_np_CVSearch_model_NORMal_1.hdf5\n",
            "93/93 [==============================] - 1s 8ms/step - loss: 1.8078 - accuracy: 0.3814 - val_loss: 1.6853 - val_accuracy: 0.4188\n",
            "Epoch 4/200\n",
            "88/93 [===========================>..] - ETA: 0s - loss: 1.5909 - accuracy: 0.4578\n",
            "Epoch 4: val_loss improved from 1.68529 to 1.49392, saving model to my_best_np_CVSearch_model_NORMal_1.hdf5\n",
            "93/93 [==============================] - 1s 8ms/step - loss: 1.5877 - accuracy: 0.4605 - val_loss: 1.4939 - val_accuracy: 0.4612\n",
            "Epoch 5/200\n",
            "89/93 [===========================>..] - ETA: 0s - loss: 1.4253 - accuracy: 0.4919\n",
            "Epoch 5: val_loss improved from 1.49392 to 1.36762, saving model to my_best_np_CVSearch_model_NORMal_1.hdf5\n",
            "93/93 [==============================] - 1s 8ms/step - loss: 1.4243 - accuracy: 0.4932 - val_loss: 1.3676 - val_accuracy: 0.5230\n",
            "Epoch 6/200\n",
            "92/93 [============================>.] - ETA: 0s - loss: 1.3073 - accuracy: 0.5487\n",
            "Epoch 6: val_loss improved from 1.36762 to 1.27618, saving model to my_best_np_CVSearch_model_NORMal_1.hdf5\n",
            "93/93 [==============================] - 1s 8ms/step - loss: 1.3072 - accuracy: 0.5485 - val_loss: 1.2762 - val_accuracy: 0.5524\n",
            "Epoch 7/200\n",
            "86/93 [==========================>...] - ETA: 0s - loss: 1.2172 - accuracy: 0.5814\n",
            "Epoch 7: val_loss improved from 1.27618 to 1.16872, saving model to my_best_np_CVSearch_model_NORMal_1.hdf5\n",
            "93/93 [==============================] - 1s 8ms/step - loss: 1.2024 - accuracy: 0.5893 - val_loss: 1.1687 - val_accuracy: 0.6049\n",
            "Epoch 8/200\n",
            "92/93 [============================>.] - ETA: 0s - loss: 1.0992 - accuracy: 0.6299\n",
            "Epoch 8: val_loss improved from 1.16872 to 1.06713, saving model to my_best_np_CVSearch_model_NORMal_1.hdf5\n",
            "93/93 [==============================] - 1s 8ms/step - loss: 1.0984 - accuracy: 0.6301 - val_loss: 1.0671 - val_accuracy: 0.6466\n",
            "Epoch 9/200\n",
            "93/93 [==============================] - ETA: 0s - loss: 1.0037 - accuracy: 0.6603\n",
            "Epoch 9: val_loss improved from 1.06713 to 0.99073, saving model to my_best_np_CVSearch_model_NORMal_1.hdf5\n",
            "93/93 [==============================] - 1s 8ms/step - loss: 1.0037 - accuracy: 0.6603 - val_loss: 0.9907 - val_accuracy: 0.6695\n",
            "Epoch 10/200\n",
            "92/93 [============================>.] - ETA: 0s - loss: 0.9311 - accuracy: 0.6781\n",
            "Epoch 10: val_loss improved from 0.99073 to 0.92745, saving model to my_best_np_CVSearch_model_NORMal_1.hdf5\n",
            "93/93 [==============================] - 1s 8ms/step - loss: 0.9304 - accuracy: 0.6788 - val_loss: 0.9274 - val_accuracy: 0.6825\n",
            "Epoch 11/200\n",
            "92/93 [============================>.] - ETA: 0s - loss: 0.8858 - accuracy: 0.6857\n",
            "Epoch 11: val_loss did not improve from 0.92745\n",
            "93/93 [==============================] - 1s 7ms/step - loss: 0.8845 - accuracy: 0.6862 - val_loss: 0.9533 - val_accuracy: 0.6588\n",
            "Epoch 12/200\n",
            "93/93 [==============================] - ETA: 0s - loss: 0.8396 - accuracy: 0.7078\n",
            "Epoch 12: val_loss improved from 0.92745 to 0.85546, saving model to my_best_np_CVSearch_model_NORMal_1.hdf5\n",
            "93/93 [==============================] - 1s 8ms/step - loss: 0.8396 - accuracy: 0.7078 - val_loss: 0.8555 - val_accuracy: 0.7105\n",
            "Epoch 13/200\n",
            "86/93 [==========================>...] - ETA: 0s - loss: 0.8128 - accuracy: 0.7161\n",
            "Epoch 13: val_loss improved from 0.85546 to 0.84535, saving model to my_best_np_CVSearch_model_NORMal_1.hdf5\n",
            "93/93 [==============================] - 1s 8ms/step - loss: 0.8133 - accuracy: 0.7162 - val_loss: 0.8453 - val_accuracy: 0.7091\n",
            "Epoch 14/200\n",
            "89/93 [===========================>..] - ETA: 0s - loss: 0.7777 - accuracy: 0.7294\n",
            "Epoch 14: val_loss improved from 0.84535 to 0.81160, saving model to my_best_np_CVSearch_model_NORMal_1.hdf5\n",
            "93/93 [==============================] - 1s 8ms/step - loss: 0.7744 - accuracy: 0.7313 - val_loss: 0.8116 - val_accuracy: 0.7256\n",
            "Epoch 15/200\n",
            "89/93 [===========================>..] - ETA: 0s - loss: 0.7500 - accuracy: 0.7397\n",
            "Epoch 15: val_loss improved from 0.81160 to 0.79857, saving model to my_best_np_CVSearch_model_NORMal_1.hdf5\n",
            "93/93 [==============================] - 1s 8ms/step - loss: 0.7497 - accuracy: 0.7399 - val_loss: 0.7986 - val_accuracy: 0.7263\n",
            "Epoch 16/200\n",
            "91/93 [============================>.] - ETA: 0s - loss: 0.7380 - accuracy: 0.7352\n",
            "Epoch 16: val_loss did not improve from 0.79857\n",
            "93/93 [==============================] - 1s 7ms/step - loss: 0.7400 - accuracy: 0.7347 - val_loss: 0.8017 - val_accuracy: 0.7234\n",
            "Epoch 17/200\n",
            "93/93 [==============================] - ETA: 0s - loss: 0.7166 - accuracy: 0.7448\n",
            "Epoch 17: val_loss improved from 0.79857 to 0.76274, saving model to my_best_np_CVSearch_model_NORMal_1.hdf5\n",
            "93/93 [==============================] - 1s 9ms/step - loss: 0.7166 - accuracy: 0.7448 - val_loss: 0.7627 - val_accuracy: 0.7292\n",
            "Epoch 18/200\n",
            "89/93 [===========================>..] - ETA: 0s - loss: 0.6988 - accuracy: 0.7526\n",
            "Epoch 18: val_loss improved from 0.76274 to 0.73500, saving model to my_best_np_CVSearch_model_NORMal_1.hdf5\n",
            "93/93 [==============================] - 1s 9ms/step - loss: 0.6995 - accuracy: 0.7520 - val_loss: 0.7350 - val_accuracy: 0.7457\n",
            "Epoch 19/200\n",
            "91/93 [============================>.] - ETA: 0s - loss: 0.6898 - accuracy: 0.7553\n",
            "Epoch 19: val_loss did not improve from 0.73500\n",
            "93/93 [==============================] - 1s 8ms/step - loss: 0.6873 - accuracy: 0.7565 - val_loss: 0.7653 - val_accuracy: 0.7270\n",
            "Epoch 20/200\n",
            "89/93 [===========================>..] - ETA: 0s - loss: 0.6743 - accuracy: 0.7646\n",
            "Epoch 20: val_loss improved from 0.73500 to 0.71946, saving model to my_best_np_CVSearch_model_NORMal_1.hdf5\n",
            "93/93 [==============================] - 1s 8ms/step - loss: 0.6734 - accuracy: 0.7642 - val_loss: 0.7195 - val_accuracy: 0.7464\n",
            "Epoch 21/200\n",
            "89/93 [===========================>..] - ETA: 0s - loss: 0.6624 - accuracy: 0.7592\n",
            "Epoch 21: val_loss did not improve from 0.71946\n",
            "93/93 [==============================] - 1s 7ms/step - loss: 0.6620 - accuracy: 0.7597 - val_loss: 0.7265 - val_accuracy: 0.7392\n",
            "Epoch 22/200\n",
            "86/93 [==========================>...] - ETA: 0s - loss: 0.6413 - accuracy: 0.7711\n",
            "Epoch 22: val_loss improved from 0.71946 to 0.71478, saving model to my_best_np_CVSearch_model_NORMal_1.hdf5\n",
            "93/93 [==============================] - 1s 9ms/step - loss: 0.6424 - accuracy: 0.7705 - val_loss: 0.7148 - val_accuracy: 0.7471\n",
            "Epoch 23/200\n",
            "89/93 [===========================>..] - ETA: 0s - loss: 0.6363 - accuracy: 0.7710\n",
            "Epoch 23: val_loss improved from 0.71478 to 0.69317, saving model to my_best_np_CVSearch_model_NORMal_1.hdf5\n",
            "93/93 [==============================] - 1s 8ms/step - loss: 0.6360 - accuracy: 0.7719 - val_loss: 0.6932 - val_accuracy: 0.7550\n",
            "Epoch 24/200\n",
            "90/93 [============================>.] - ETA: 0s - loss: 0.6165 - accuracy: 0.7817\n",
            "Epoch 24: val_loss improved from 0.69317 to 0.67900, saving model to my_best_np_CVSearch_model_NORMal_1.hdf5\n",
            "93/93 [==============================] - 1s 8ms/step - loss: 0.6185 - accuracy: 0.7815 - val_loss: 0.6790 - val_accuracy: 0.7672\n",
            "Epoch 25/200\n",
            "89/93 [===========================>..] - ETA: 0s - loss: 0.6115 - accuracy: 0.7798\n",
            "Epoch 25: val_loss did not improve from 0.67900\n",
            "93/93 [==============================] - 1s 7ms/step - loss: 0.6149 - accuracy: 0.7786 - val_loss: 0.6810 - val_accuracy: 0.7644\n",
            "Epoch 26/200\n",
            "89/93 [===========================>..] - ETA: 0s - loss: 0.6146 - accuracy: 0.7772\n",
            "Epoch 26: val_loss did not improve from 0.67900\n",
            "93/93 [==============================] - 1s 8ms/step - loss: 0.6115 - accuracy: 0.7793 - val_loss: 0.6791 - val_accuracy: 0.7658\n",
            "Epoch 27/200\n",
            "90/93 [============================>.] - ETA: 0s - loss: 0.5913 - accuracy: 0.7874\n",
            "Epoch 27: val_loss improved from 0.67900 to 0.66574, saving model to my_best_np_CVSearch_model_NORMal_1.hdf5\n",
            "93/93 [==============================] - 1s 8ms/step - loss: 0.5947 - accuracy: 0.7859 - val_loss: 0.6657 - val_accuracy: 0.7572\n",
            "Epoch 28/200\n",
            "87/93 [===========================>..] - ETA: 0s - loss: 0.5861 - accuracy: 0.7929\n",
            "Epoch 28: val_loss improved from 0.66574 to 0.64657, saving model to my_best_np_CVSearch_model_NORMal_1.hdf5\n",
            "93/93 [==============================] - 1s 8ms/step - loss: 0.5875 - accuracy: 0.7904 - val_loss: 0.6466 - val_accuracy: 0.7759\n",
            "Epoch 29/200\n",
            "86/93 [==========================>...] - ETA: 0s - loss: 0.5802 - accuracy: 0.7907\n",
            "Epoch 29: val_loss improved from 0.64657 to 0.63758, saving model to my_best_np_CVSearch_model_NORMal_1.hdf5\n",
            "93/93 [==============================] - 1s 8ms/step - loss: 0.5819 - accuracy: 0.7895 - val_loss: 0.6376 - val_accuracy: 0.7759\n",
            "Epoch 30/200\n",
            "91/93 [============================>.] - ETA: 0s - loss: 0.5706 - accuracy: 0.7965\n",
            "Epoch 30: val_loss improved from 0.63758 to 0.63131, saving model to my_best_np_CVSearch_model_NORMal_1.hdf5\n",
            "93/93 [==============================] - 1s 8ms/step - loss: 0.5712 - accuracy: 0.7960 - val_loss: 0.6313 - val_accuracy: 0.7759\n",
            "Epoch 31/200\n",
            "88/93 [===========================>..] - ETA: 0s - loss: 0.5626 - accuracy: 0.7945\n",
            "Epoch 31: val_loss improved from 0.63131 to 0.62132, saving model to my_best_np_CVSearch_model_NORMal_1.hdf5\n",
            "93/93 [==============================] - 1s 9ms/step - loss: 0.5637 - accuracy: 0.7949 - val_loss: 0.6213 - val_accuracy: 0.7780\n",
            "Epoch 32/200\n",
            "86/93 [==========================>...] - ETA: 0s - loss: 0.5612 - accuracy: 0.7928\n",
            "Epoch 32: val_loss did not improve from 0.62132\n",
            "93/93 [==============================] - 1s 8ms/step - loss: 0.5631 - accuracy: 0.7930 - val_loss: 0.6342 - val_accuracy: 0.7795\n",
            "Epoch 33/200\n",
            "87/93 [===========================>..] - ETA: 0s - loss: 0.5483 - accuracy: 0.7990\n",
            "Epoch 33: val_loss did not improve from 0.62132\n",
            "93/93 [==============================] - 1s 9ms/step - loss: 0.5491 - accuracy: 0.7998 - val_loss: 0.6251 - val_accuracy: 0.7737\n",
            "Epoch 34/200\n",
            "91/93 [============================>.] - ETA: 0s - loss: 0.5496 - accuracy: 0.7989\n",
            "Epoch 34: val_loss improved from 0.62132 to 0.62011, saving model to my_best_np_CVSearch_model_NORMal_1.hdf5\n",
            "93/93 [==============================] - 1s 8ms/step - loss: 0.5486 - accuracy: 0.7987 - val_loss: 0.6201 - val_accuracy: 0.7809\n",
            "Epoch 35/200\n",
            "86/93 [==========================>...] - ETA: 0s - loss: 0.5357 - accuracy: 0.8035\n",
            "Epoch 35: val_loss improved from 0.62011 to 0.60509, saving model to my_best_np_CVSearch_model_NORMal_1.hdf5\n",
            "93/93 [==============================] - 1s 8ms/step - loss: 0.5382 - accuracy: 0.8018 - val_loss: 0.6051 - val_accuracy: 0.7888\n",
            "Epoch 36/200\n",
            "89/93 [===========================>..] - ETA: 0s - loss: 0.5332 - accuracy: 0.8054\n",
            "Epoch 36: val_loss improved from 0.60509 to 0.59500, saving model to my_best_np_CVSearch_model_NORMal_1.hdf5\n",
            "93/93 [==============================] - 1s 8ms/step - loss: 0.5320 - accuracy: 0.8057 - val_loss: 0.5950 - val_accuracy: 0.7866\n",
            "Epoch 37/200\n",
            "89/93 [===========================>..] - ETA: 0s - loss: 0.5290 - accuracy: 0.8082\n",
            "Epoch 37: val_loss improved from 0.59500 to 0.59444, saving model to my_best_np_CVSearch_model_NORMal_1.hdf5\n",
            "93/93 [==============================] - 1s 8ms/step - loss: 0.5251 - accuracy: 0.8091 - val_loss: 0.5944 - val_accuracy: 0.7967\n",
            "Epoch 38/200\n",
            "93/93 [==============================] - ETA: 0s - loss: 0.5303 - accuracy: 0.8054\n",
            "Epoch 38: val_loss improved from 0.59444 to 0.58286, saving model to my_best_np_CVSearch_model_NORMal_1.hdf5\n",
            "93/93 [==============================] - 1s 8ms/step - loss: 0.5303 - accuracy: 0.8054 - val_loss: 0.5829 - val_accuracy: 0.7931\n",
            "Epoch 39/200\n",
            "89/93 [===========================>..] - ETA: 0s - loss: 0.5147 - accuracy: 0.8051\n",
            "Epoch 39: val_loss did not improve from 0.58286\n",
            "93/93 [==============================] - 1s 8ms/step - loss: 0.5148 - accuracy: 0.8054 - val_loss: 0.5875 - val_accuracy: 0.7909\n",
            "Epoch 40/200\n",
            "92/93 [============================>.] - ETA: 0s - loss: 0.5144 - accuracy: 0.8109\n",
            "Epoch 40: val_loss improved from 0.58286 to 0.57711, saving model to my_best_np_CVSearch_model_NORMal_1.hdf5\n",
            "93/93 [==============================] - 1s 9ms/step - loss: 0.5156 - accuracy: 0.8107 - val_loss: 0.5771 - val_accuracy: 0.7989\n",
            "Epoch 41/200\n",
            "91/93 [============================>.] - ETA: 0s - loss: 0.5094 - accuracy: 0.8090\n",
            "Epoch 41: val_loss did not improve from 0.57711\n",
            "93/93 [==============================] - 1s 8ms/step - loss: 0.5098 - accuracy: 0.8086 - val_loss: 0.5917 - val_accuracy: 0.7917\n",
            "Epoch 42/200\n",
            "88/93 [===========================>..] - ETA: 0s - loss: 0.5017 - accuracy: 0.8153\n",
            "Epoch 42: val_loss did not improve from 0.57711\n",
            "93/93 [==============================] - 1s 8ms/step - loss: 0.5056 - accuracy: 0.8136 - val_loss: 0.5862 - val_accuracy: 0.7816\n",
            "Epoch 43/200\n",
            "86/93 [==========================>...] - ETA: 0s - loss: 0.5116 - accuracy: 0.8110\n",
            "Epoch 43: val_loss improved from 0.57711 to 0.56820, saving model to my_best_np_CVSearch_model_NORMal_1.hdf5\n",
            "93/93 [==============================] - 1s 8ms/step - loss: 0.5057 - accuracy: 0.8140 - val_loss: 0.5682 - val_accuracy: 0.7996\n",
            "Epoch 44/200\n",
            "87/93 [===========================>..] - ETA: 0s - loss: 0.4893 - accuracy: 0.8165\n",
            "Epoch 44: val_loss did not improve from 0.56820\n",
            "93/93 [==============================] - 1s 8ms/step - loss: 0.4910 - accuracy: 0.8158 - val_loss: 0.5731 - val_accuracy: 0.7960\n",
            "Epoch 45/200\n",
            "93/93 [==============================] - ETA: 0s - loss: 0.4943 - accuracy: 0.8167\n",
            "Epoch 45: val_loss did not improve from 0.56820\n",
            "93/93 [==============================] - 1s 8ms/step - loss: 0.4943 - accuracy: 0.8167 - val_loss: 0.5801 - val_accuracy: 0.7945\n",
            "Epoch 46/200\n",
            "85/93 [==========================>...] - ETA: 0s - loss: 0.4896 - accuracy: 0.8196\n",
            "Epoch 46: val_loss improved from 0.56820 to 0.55507, saving model to my_best_np_CVSearch_model_NORMal_1.hdf5\n",
            "93/93 [==============================] - 1s 8ms/step - loss: 0.4896 - accuracy: 0.8205 - val_loss: 0.5551 - val_accuracy: 0.8147\n",
            "Epoch 47/200\n",
            "91/93 [============================>.] - ETA: 0s - loss: 0.4815 - accuracy: 0.8223\n",
            "Epoch 47: val_loss did not improve from 0.55507\n",
            "93/93 [==============================] - 1s 7ms/step - loss: 0.4824 - accuracy: 0.8219 - val_loss: 0.5617 - val_accuracy: 0.7981\n",
            "Epoch 48/200\n",
            "93/93 [==============================] - ETA: 0s - loss: 0.4778 - accuracy: 0.8201\n",
            "Epoch 48: val_loss did not improve from 0.55507\n",
            "93/93 [==============================] - 1s 9ms/step - loss: 0.4778 - accuracy: 0.8201 - val_loss: 0.5778 - val_accuracy: 0.7859\n",
            "Epoch 49/200\n",
            "90/93 [============================>.] - ETA: 0s - loss: 0.4767 - accuracy: 0.8274\n",
            "Epoch 49: val_loss did not improve from 0.55507\n",
            "93/93 [==============================] - 1s 8ms/step - loss: 0.4760 - accuracy: 0.8267 - val_loss: 0.5598 - val_accuracy: 0.8089\n",
            "Epoch 50/200\n",
            "88/93 [===========================>..] - ETA: 0s - loss: 0.4713 - accuracy: 0.8241\n",
            "Epoch 50: val_loss improved from 0.55507 to 0.53679, saving model to my_best_np_CVSearch_model_NORMal_1.hdf5\n",
            "93/93 [==============================] - 1s 8ms/step - loss: 0.4722 - accuracy: 0.8235 - val_loss: 0.5368 - val_accuracy: 0.8132\n",
            "Epoch 51/200\n",
            "93/93 [==============================] - ETA: 0s - loss: 0.4735 - accuracy: 0.8231\n",
            "Epoch 51: val_loss did not improve from 0.53679\n",
            "93/93 [==============================] - 1s 8ms/step - loss: 0.4735 - accuracy: 0.8231 - val_loss: 0.5457 - val_accuracy: 0.8096\n",
            "Epoch 52/200\n",
            "89/93 [===========================>..] - ETA: 0s - loss: 0.4645 - accuracy: 0.8266\n",
            "Epoch 52: val_loss did not improve from 0.53679\n",
            "93/93 [==============================] - 1s 8ms/step - loss: 0.4603 - accuracy: 0.8276 - val_loss: 0.5378 - val_accuracy: 0.8089\n",
            "Epoch 53/200\n",
            "88/93 [===========================>..] - ETA: 0s - loss: 0.4527 - accuracy: 0.8328\n",
            "Epoch 53: val_loss improved from 0.53679 to 0.52614, saving model to my_best_np_CVSearch_model_NORMal_1.hdf5\n",
            "93/93 [==============================] - 1s 8ms/step - loss: 0.4578 - accuracy: 0.8312 - val_loss: 0.5261 - val_accuracy: 0.8161\n",
            "Epoch 54/200\n",
            "91/93 [============================>.] - ETA: 0s - loss: 0.4564 - accuracy: 0.8300\n",
            "Epoch 54: val_loss did not improve from 0.52614\n",
            "93/93 [==============================] - 1s 7ms/step - loss: 0.4537 - accuracy: 0.8312 - val_loss: 0.5288 - val_accuracy: 0.8068\n",
            "Epoch 55/200\n",
            "87/93 [===========================>..] - ETA: 0s - loss: 0.4501 - accuracy: 0.8312\n",
            "Epoch 55: val_loss improved from 0.52614 to 0.52311, saving model to my_best_np_CVSearch_model_NORMal_1.hdf5\n",
            "93/93 [==============================] - 1s 8ms/step - loss: 0.4495 - accuracy: 0.8311 - val_loss: 0.5231 - val_accuracy: 0.8204\n",
            "Epoch 56/200\n",
            "88/93 [===========================>..] - ETA: 0s - loss: 0.4422 - accuracy: 0.8341\n",
            "Epoch 56: val_loss improved from 0.52311 to 0.51027, saving model to my_best_np_CVSearch_model_NORMal_1.hdf5\n",
            "93/93 [==============================] - 1s 8ms/step - loss: 0.4423 - accuracy: 0.8343 - val_loss: 0.5103 - val_accuracy: 0.8218\n",
            "Epoch 57/200\n",
            "91/93 [============================>.] - ETA: 0s - loss: 0.4431 - accuracy: 0.8357\n",
            "Epoch 57: val_loss did not improve from 0.51027\n",
            "93/93 [==============================] - 1s 8ms/step - loss: 0.4410 - accuracy: 0.8359 - val_loss: 0.5149 - val_accuracy: 0.8247\n",
            "Epoch 58/200\n",
            "86/93 [==========================>...] - ETA: 0s - loss: 0.4342 - accuracy: 0.8432\n",
            "Epoch 58: val_loss improved from 0.51027 to 0.50543, saving model to my_best_np_CVSearch_model_NORMal_1.hdf5\n",
            "93/93 [==============================] - 1s 8ms/step - loss: 0.4390 - accuracy: 0.8397 - val_loss: 0.5054 - val_accuracy: 0.8261\n",
            "Epoch 59/200\n",
            "92/93 [============================>.] - ETA: 0s - loss: 0.4365 - accuracy: 0.8366\n",
            "Epoch 59: val_loss did not improve from 0.50543\n",
            "93/93 [==============================] - 1s 7ms/step - loss: 0.4395 - accuracy: 0.8354 - val_loss: 0.5060 - val_accuracy: 0.8154\n",
            "Epoch 60/200\n",
            "88/93 [===========================>..] - ETA: 0s - loss: 0.4359 - accuracy: 0.8379\n",
            "Epoch 60: val_loss did not improve from 0.50543\n",
            "93/93 [==============================] - 1s 8ms/step - loss: 0.4363 - accuracy: 0.8375 - val_loss: 0.5074 - val_accuracy: 0.8190\n",
            "Epoch 61/200\n",
            "90/93 [============================>.] - ETA: 0s - loss: 0.4280 - accuracy: 0.8387\n",
            "Epoch 61: val_loss improved from 0.50543 to 0.50294, saving model to my_best_np_CVSearch_model_NORMal_1.hdf5\n",
            "93/93 [==============================] - 1s 8ms/step - loss: 0.4288 - accuracy: 0.8386 - val_loss: 0.5029 - val_accuracy: 0.8226\n",
            "Epoch 62/200\n",
            "91/93 [============================>.] - ETA: 0s - loss: 0.4239 - accuracy: 0.8407\n",
            "Epoch 62: val_loss did not improve from 0.50294\n",
            "93/93 [==============================] - 1s 8ms/step - loss: 0.4254 - accuracy: 0.8402 - val_loss: 0.5133 - val_accuracy: 0.8240\n",
            "Epoch 63/200\n",
            "91/93 [============================>.] - ETA: 0s - loss: 0.4240 - accuracy: 0.8425\n",
            "Epoch 63: val_loss improved from 0.50294 to 0.50059, saving model to my_best_np_CVSearch_model_NORMal_1.hdf5\n",
            "93/93 [==============================] - 1s 8ms/step - loss: 0.4245 - accuracy: 0.8422 - val_loss: 0.5006 - val_accuracy: 0.8269\n",
            "Epoch 64/200\n",
            "92/93 [============================>.] - ETA: 0s - loss: 0.4149 - accuracy: 0.8486\n",
            "Epoch 64: val_loss did not improve from 0.50059\n",
            "93/93 [==============================] - 1s 8ms/step - loss: 0.4145 - accuracy: 0.8490 - val_loss: 0.5098 - val_accuracy: 0.8161\n",
            "Epoch 65/200\n",
            "92/93 [============================>.] - ETA: 0s - loss: 0.4183 - accuracy: 0.8475\n",
            "Epoch 65: val_loss did not improve from 0.50059\n",
            "93/93 [==============================] - 1s 7ms/step - loss: 0.4185 - accuracy: 0.8469 - val_loss: 0.5151 - val_accuracy: 0.8175\n",
            "Epoch 66/200\n",
            "88/93 [===========================>..] - ETA: 0s - loss: 0.4117 - accuracy: 0.8453\n",
            "Epoch 66: val_loss improved from 0.50059 to 0.48742, saving model to my_best_np_CVSearch_model_NORMal_1.hdf5\n",
            "93/93 [==============================] - 1s 8ms/step - loss: 0.4165 - accuracy: 0.8442 - val_loss: 0.4874 - val_accuracy: 0.8348\n",
            "Epoch 67/200\n",
            "87/93 [===========================>..] - ETA: 0s - loss: 0.4085 - accuracy: 0.8481\n",
            "Epoch 67: val_loss did not improve from 0.48742\n",
            "93/93 [==============================] - 1s 8ms/step - loss: 0.4098 - accuracy: 0.8469 - val_loss: 0.4966 - val_accuracy: 0.8290\n",
            "Epoch 68/200\n",
            "92/93 [============================>.] - ETA: 0s - loss: 0.4086 - accuracy: 0.8487\n",
            "Epoch 68: val_loss did not improve from 0.48742\n",
            "93/93 [==============================] - 1s 8ms/step - loss: 0.4081 - accuracy: 0.8490 - val_loss: 0.5059 - val_accuracy: 0.8247\n",
            "Epoch 69/200\n",
            "89/93 [===========================>..] - ETA: 0s - loss: 0.4030 - accuracy: 0.8496\n",
            "Epoch 69: val_loss did not improve from 0.48742\n",
            "93/93 [==============================] - 1s 8ms/step - loss: 0.4008 - accuracy: 0.8508 - val_loss: 0.4935 - val_accuracy: 0.8290\n",
            "Epoch 70/200\n",
            "93/93 [==============================] - ETA: 0s - loss: 0.4050 - accuracy: 0.8499\n",
            "Epoch 70: val_loss did not improve from 0.48742\n",
            "93/93 [==============================] - 1s 8ms/step - loss: 0.4050 - accuracy: 0.8499 - val_loss: 0.4989 - val_accuracy: 0.8269\n",
            "Epoch 71/200\n",
            "89/93 [===========================>..] - ETA: 0s - loss: 0.3916 - accuracy: 0.8543\n",
            "Epoch 71: val_loss improved from 0.48742 to 0.46172, saving model to my_best_np_CVSearch_model_NORMal_1.hdf5\n",
            "93/93 [==============================] - 1s 8ms/step - loss: 0.3930 - accuracy: 0.8542 - val_loss: 0.4617 - val_accuracy: 0.8470\n",
            "Epoch 72/200\n",
            "88/93 [===========================>..] - ETA: 0s - loss: 0.3962 - accuracy: 0.8542\n",
            "Epoch 72: val_loss did not improve from 0.46172\n",
            "93/93 [==============================] - 1s 8ms/step - loss: 0.3986 - accuracy: 0.8542 - val_loss: 0.4789 - val_accuracy: 0.8333\n",
            "Epoch 73/200\n",
            "86/93 [==========================>...] - ETA: 0s - loss: 0.3894 - accuracy: 0.8508\n",
            "Epoch 73: val_loss did not improve from 0.46172\n",
            "93/93 [==============================] - 1s 8ms/step - loss: 0.3903 - accuracy: 0.8512 - val_loss: 0.4686 - val_accuracy: 0.8463\n",
            "Epoch 74/200\n",
            "87/93 [===========================>..] - ETA: 0s - loss: 0.3922 - accuracy: 0.8557\n",
            "Epoch 74: val_loss did not improve from 0.46172\n",
            "93/93 [==============================] - 1s 8ms/step - loss: 0.3884 - accuracy: 0.8566 - val_loss: 0.4677 - val_accuracy: 0.8362\n",
            "Epoch 75/200\n",
            "92/93 [============================>.] - ETA: 0s - loss: 0.3829 - accuracy: 0.8582\n",
            "Epoch 75: val_loss did not improve from 0.46172\n",
            "93/93 [==============================] - 1s 9ms/step - loss: 0.3833 - accuracy: 0.8578 - val_loss: 0.4624 - val_accuracy: 0.8348\n",
            "Epoch 76/200\n",
            "86/93 [==========================>...] - ETA: 0s - loss: 0.3797 - accuracy: 0.8610\n",
            "Epoch 76: val_loss improved from 0.46172 to 0.45810, saving model to my_best_np_CVSearch_model_NORMal_1.hdf5\n",
            "93/93 [==============================] - 1s 8ms/step - loss: 0.3805 - accuracy: 0.8618 - val_loss: 0.4581 - val_accuracy: 0.8391\n",
            "Epoch 77/200\n",
            "93/93 [==============================] - ETA: 0s - loss: 0.3768 - accuracy: 0.8604\n",
            "Epoch 77: val_loss did not improve from 0.45810\n",
            "93/93 [==============================] - 1s 8ms/step - loss: 0.3768 - accuracy: 0.8604 - val_loss: 0.4815 - val_accuracy: 0.8384\n",
            "Epoch 78/200\n",
            "89/93 [===========================>..] - ETA: 0s - loss: 0.3883 - accuracy: 0.8549\n",
            "Epoch 78: val_loss did not improve from 0.45810\n",
            "93/93 [==============================] - 1s 8ms/step - loss: 0.3857 - accuracy: 0.8560 - val_loss: 0.4681 - val_accuracy: 0.8491\n",
            "Epoch 79/200\n",
            "89/93 [===========================>..] - ETA: 0s - loss: 0.3739 - accuracy: 0.8605\n",
            "Epoch 79: val_loss did not improve from 0.45810\n",
            "93/93 [==============================] - 1s 7ms/step - loss: 0.3747 - accuracy: 0.8611 - val_loss: 0.4707 - val_accuracy: 0.8369\n",
            "Epoch 80/200\n",
            "92/93 [============================>.] - ETA: 0s - loss: 0.3750 - accuracy: 0.8623\n",
            "Epoch 80: val_loss did not improve from 0.45810\n",
            "93/93 [==============================] - 1s 8ms/step - loss: 0.3744 - accuracy: 0.8625 - val_loss: 0.4701 - val_accuracy: 0.8398\n",
            "Epoch 81/200\n",
            "90/93 [============================>.] - ETA: 0s - loss: 0.3742 - accuracy: 0.8619\n",
            "Epoch 81: val_loss did not improve from 0.45810\n",
            "93/93 [==============================] - 1s 8ms/step - loss: 0.3739 - accuracy: 0.8614 - val_loss: 0.4857 - val_accuracy: 0.8305\n",
            "Epoch 82/200\n",
            "88/93 [===========================>..] - ETA: 0s - loss: 0.3714 - accuracy: 0.8597\n",
            "Epoch 82: val_loss improved from 0.45810 to 0.45411, saving model to my_best_np_CVSearch_model_NORMal_1.hdf5\n",
            "93/93 [==============================] - 1s 9ms/step - loss: 0.3721 - accuracy: 0.8600 - val_loss: 0.4541 - val_accuracy: 0.8455\n",
            "Epoch 83/200\n",
            "88/93 [===========================>..] - ETA: 0s - loss: 0.3635 - accuracy: 0.8665\n",
            "Epoch 83: val_loss improved from 0.45411 to 0.44862, saving model to my_best_np_CVSearch_model_NORMal_1.hdf5\n",
            "93/93 [==============================] - 1s 8ms/step - loss: 0.3666 - accuracy: 0.8652 - val_loss: 0.4486 - val_accuracy: 0.8455\n",
            "Epoch 84/200\n",
            "93/93 [==============================] - ETA: 0s - loss: 0.3683 - accuracy: 0.8638\n",
            "Epoch 84: val_loss improved from 0.44862 to 0.44758, saving model to my_best_np_CVSearch_model_NORMal_1.hdf5\n",
            "93/93 [==============================] - 1s 8ms/step - loss: 0.3683 - accuracy: 0.8638 - val_loss: 0.4476 - val_accuracy: 0.8585\n",
            "Epoch 85/200\n",
            "89/93 [===========================>..] - ETA: 0s - loss: 0.3687 - accuracy: 0.8661\n",
            "Epoch 85: val_loss did not improve from 0.44758\n",
            "93/93 [==============================] - 1s 8ms/step - loss: 0.3680 - accuracy: 0.8668 - val_loss: 0.4597 - val_accuracy: 0.8491\n",
            "Epoch 86/200\n",
            "90/93 [============================>.] - ETA: 0s - loss: 0.3633 - accuracy: 0.8619\n",
            "Epoch 86: val_loss did not improve from 0.44758\n",
            "93/93 [==============================] - 1s 7ms/step - loss: 0.3637 - accuracy: 0.8620 - val_loss: 0.4676 - val_accuracy: 0.8427\n",
            "Epoch 87/200\n",
            "92/93 [============================>.] - ETA: 0s - loss: 0.3606 - accuracy: 0.8650\n",
            "Epoch 87: val_loss did not improve from 0.44758\n",
            "93/93 [==============================] - 1s 8ms/step - loss: 0.3616 - accuracy: 0.8648 - val_loss: 0.4557 - val_accuracy: 0.8470\n",
            "Epoch 88/200\n",
            "87/93 [===========================>..] - ETA: 0s - loss: 0.3529 - accuracy: 0.8697\n",
            "Epoch 88: val_loss improved from 0.44758 to 0.44557, saving model to my_best_np_CVSearch_model_NORMal_1.hdf5\n",
            "93/93 [==============================] - 1s 8ms/step - loss: 0.3536 - accuracy: 0.8692 - val_loss: 0.4456 - val_accuracy: 0.8470\n",
            "Epoch 89/200\n",
            "92/93 [============================>.] - ETA: 0s - loss: 0.3516 - accuracy: 0.8710\n",
            "Epoch 89: val_loss improved from 0.44557 to 0.44266, saving model to my_best_np_CVSearch_model_NORMal_1.hdf5\n",
            "93/93 [==============================] - 1s 8ms/step - loss: 0.3524 - accuracy: 0.8708 - val_loss: 0.4427 - val_accuracy: 0.8549\n",
            "Epoch 90/200\n",
            "93/93 [==============================] - ETA: 0s - loss: 0.3498 - accuracy: 0.8713\n",
            "Epoch 90: val_loss improved from 0.44266 to 0.44226, saving model to my_best_np_CVSearch_model_NORMal_1.hdf5\n",
            "93/93 [==============================] - 1s 8ms/step - loss: 0.3498 - accuracy: 0.8713 - val_loss: 0.4423 - val_accuracy: 0.8563\n",
            "Epoch 91/200\n",
            "91/93 [============================>.] - ETA: 0s - loss: 0.3514 - accuracy: 0.8689\n",
            "Epoch 91: val_loss did not improve from 0.44226\n",
            "93/93 [==============================] - 1s 7ms/step - loss: 0.3493 - accuracy: 0.8697 - val_loss: 0.4425 - val_accuracy: 0.8491\n",
            "Epoch 92/200\n",
            "89/93 [===========================>..] - ETA: 0s - loss: 0.3502 - accuracy: 0.8697\n",
            "Epoch 92: val_loss did not improve from 0.44226\n",
            "93/93 [==============================] - 1s 8ms/step - loss: 0.3499 - accuracy: 0.8697 - val_loss: 0.4634 - val_accuracy: 0.8333\n",
            "Epoch 93/200\n",
            "86/93 [==========================>...] - ETA: 0s - loss: 0.3338 - accuracy: 0.8789\n",
            "Epoch 93: val_loss did not improve from 0.44226\n",
            "93/93 [==============================] - 1s 8ms/step - loss: 0.3373 - accuracy: 0.8778 - val_loss: 0.4432 - val_accuracy: 0.8549\n",
            "Epoch 94/200\n",
            "90/93 [============================>.] - ETA: 0s - loss: 0.3513 - accuracy: 0.8694\n",
            "Epoch 94: val_loss improved from 0.44226 to 0.43882, saving model to my_best_np_CVSearch_model_NORMal_1.hdf5\n",
            "93/93 [==============================] - 1s 8ms/step - loss: 0.3500 - accuracy: 0.8695 - val_loss: 0.4388 - val_accuracy: 0.8549\n",
            "Epoch 95/200\n",
            "89/93 [===========================>..] - ETA: 0s - loss: 0.3410 - accuracy: 0.8715\n",
            "Epoch 95: val_loss improved from 0.43882 to 0.43388, saving model to my_best_np_CVSearch_model_NORMal_1.hdf5\n",
            "93/93 [==============================] - 1s 9ms/step - loss: 0.3405 - accuracy: 0.8722 - val_loss: 0.4339 - val_accuracy: 0.8570\n",
            "Epoch 96/200\n",
            "87/93 [===========================>..] - ETA: 0s - loss: 0.3391 - accuracy: 0.8751\n",
            "Epoch 96: val_loss did not improve from 0.43388\n",
            "93/93 [==============================] - 1s 8ms/step - loss: 0.3388 - accuracy: 0.8744 - val_loss: 0.4347 - val_accuracy: 0.8592\n",
            "Epoch 97/200\n",
            "90/93 [============================>.] - ETA: 0s - loss: 0.3336 - accuracy: 0.8761\n",
            "Epoch 97: val_loss did not improve from 0.43388\n",
            "93/93 [==============================] - 1s 7ms/step - loss: 0.3365 - accuracy: 0.8758 - val_loss: 0.4565 - val_accuracy: 0.8484\n",
            "Epoch 98/200\n",
            "90/93 [============================>.] - ETA: 0s - loss: 0.3350 - accuracy: 0.8793\n",
            "Epoch 98: val_loss improved from 0.43388 to 0.42720, saving model to my_best_np_CVSearch_model_NORMal_1.hdf5\n",
            "93/93 [==============================] - 1s 8ms/step - loss: 0.3377 - accuracy: 0.8780 - val_loss: 0.4272 - val_accuracy: 0.8534\n",
            "Epoch 99/200\n",
            "87/93 [===========================>..] - ETA: 0s - loss: 0.3252 - accuracy: 0.8795\n",
            "Epoch 99: val_loss improved from 0.42720 to 0.42232, saving model to my_best_np_CVSearch_model_NORMal_1.hdf5\n",
            "93/93 [==============================] - 1s 8ms/step - loss: 0.3293 - accuracy: 0.8783 - val_loss: 0.4223 - val_accuracy: 0.8649\n",
            "Epoch 100/200\n",
            "93/93 [==============================] - ETA: 0s - loss: 0.3283 - accuracy: 0.8760\n",
            "Epoch 100: val_loss did not improve from 0.42232\n",
            "93/93 [==============================] - 1s 8ms/step - loss: 0.3283 - accuracy: 0.8760 - val_loss: 0.4262 - val_accuracy: 0.8614\n",
            "Epoch 101/200\n",
            "88/93 [===========================>..] - ETA: 0s - loss: 0.3291 - accuracy: 0.8767\n",
            "Epoch 101: val_loss did not improve from 0.42232\n",
            "93/93 [==============================] - 1s 8ms/step - loss: 0.3305 - accuracy: 0.8767 - val_loss: 0.4421 - val_accuracy: 0.8491\n",
            "Epoch 102/200\n",
            "93/93 [==============================] - ETA: 0s - loss: 0.3269 - accuracy: 0.8790\n",
            "Epoch 102: val_loss did not improve from 0.42232\n",
            "93/93 [==============================] - 1s 8ms/step - loss: 0.3269 - accuracy: 0.8790 - val_loss: 0.4363 - val_accuracy: 0.8499\n",
            "Epoch 103/200\n",
            "92/93 [============================>.] - ETA: 0s - loss: 0.3264 - accuracy: 0.8806\n",
            "Epoch 103: val_loss did not improve from 0.42232\n",
            "93/93 [==============================] - 1s 7ms/step - loss: 0.3260 - accuracy: 0.8805 - val_loss: 0.4465 - val_accuracy: 0.8506\n",
            "Epoch 104/200\n",
            "90/93 [============================>.] - ETA: 0s - loss: 0.3268 - accuracy: 0.8817\n",
            "Epoch 104: val_loss did not improve from 0.42232\n",
            "93/93 [==============================] - 1s 8ms/step - loss: 0.3269 - accuracy: 0.8816 - val_loss: 0.4240 - val_accuracy: 0.8542\n",
            "Epoch 105/200\n",
            "88/93 [===========================>..] - ETA: 0s - loss: 0.3247 - accuracy: 0.8786\n",
            "Epoch 105: val_loss did not improve from 0.42232\n",
            "93/93 [==============================] - 1s 7ms/step - loss: 0.3245 - accuracy: 0.8794 - val_loss: 0.4299 - val_accuracy: 0.8606\n",
            "Epoch 106/200\n",
            "87/93 [===========================>..] - ETA: 0s - loss: 0.3172 - accuracy: 0.8820\n",
            "Epoch 106: val_loss improved from 0.42232 to 0.41943, saving model to my_best_np_CVSearch_model_NORMal_1.hdf5\n",
            "93/93 [==============================] - 1s 8ms/step - loss: 0.3153 - accuracy: 0.8832 - val_loss: 0.4194 - val_accuracy: 0.8621\n",
            "Epoch 107/200\n",
            "87/93 [===========================>..] - ETA: 0s - loss: 0.3169 - accuracy: 0.8835\n",
            "Epoch 107: val_loss did not improve from 0.41943\n",
            "93/93 [==============================] - 1s 8ms/step - loss: 0.3204 - accuracy: 0.8828 - val_loss: 0.4225 - val_accuracy: 0.8606\n",
            "Epoch 108/200\n",
            "91/93 [============================>.] - ETA: 0s - loss: 0.3316 - accuracy: 0.8804\n",
            "Epoch 108: val_loss improved from 0.41943 to 0.41387, saving model to my_best_np_CVSearch_model_NORMal_1.hdf5\n",
            "93/93 [==============================] - 1s 8ms/step - loss: 0.3317 - accuracy: 0.8798 - val_loss: 0.4139 - val_accuracy: 0.8606\n",
            "Epoch 109/200\n",
            "85/93 [==========================>...] - ETA: 0s - loss: 0.3141 - accuracy: 0.8835\n",
            "Epoch 109: val_loss did not improve from 0.41387\n",
            "93/93 [==============================] - 1s 8ms/step - loss: 0.3147 - accuracy: 0.8841 - val_loss: 0.4203 - val_accuracy: 0.8542\n",
            "Epoch 110/200\n",
            "87/93 [===========================>..] - ETA: 0s - loss: 0.3188 - accuracy: 0.8828\n",
            "Epoch 110: val_loss did not improve from 0.41387\n",
            "93/93 [==============================] - 1s 8ms/step - loss: 0.3174 - accuracy: 0.8837 - val_loss: 0.4190 - val_accuracy: 0.8549\n",
            "Epoch 111/200\n",
            "89/93 [===========================>..] - ETA: 0s - loss: 0.3040 - accuracy: 0.8906\n",
            "Epoch 111: val_loss did not improve from 0.41387\n",
            "93/93 [==============================] - 1s 8ms/step - loss: 0.3039 - accuracy: 0.8905 - val_loss: 0.4196 - val_accuracy: 0.8578\n",
            "Epoch 112/200\n",
            "92/93 [============================>.] - ETA: 0s - loss: 0.3051 - accuracy: 0.8888\n",
            "Epoch 112: val_loss did not improve from 0.41387\n",
            "93/93 [==============================] - 1s 8ms/step - loss: 0.3051 - accuracy: 0.8887 - val_loss: 0.4173 - val_accuracy: 0.8534\n",
            "Epoch 113/200\n",
            "87/93 [===========================>..] - ETA: 0s - loss: 0.2998 - accuracy: 0.8921\n",
            "Epoch 113: val_loss did not improve from 0.41387\n",
            "93/93 [==============================] - 1s 8ms/step - loss: 0.3018 - accuracy: 0.8913 - val_loss: 0.4155 - val_accuracy: 0.8628\n",
            "Epoch 114/200\n",
            "93/93 [==============================] - ETA: 0s - loss: 0.3047 - accuracy: 0.8882\n",
            "Epoch 114: val_loss did not improve from 0.41387\n",
            "93/93 [==============================] - 1s 8ms/step - loss: 0.3047 - accuracy: 0.8882 - val_loss: 0.4222 - val_accuracy: 0.8657\n",
            "Epoch 115/200\n",
            "90/93 [============================>.] - ETA: 0s - loss: 0.3019 - accuracy: 0.8881\n",
            "Epoch 115: val_loss did not improve from 0.41387\n",
            "93/93 [==============================] - 1s 7ms/step - loss: 0.3030 - accuracy: 0.8879 - val_loss: 0.4334 - val_accuracy: 0.8499\n",
            "Epoch 116/200\n",
            "86/93 [==========================>...] - ETA: 0s - loss: 0.3050 - accuracy: 0.8872\n",
            "Epoch 116: val_loss did not improve from 0.41387\n",
            "93/93 [==============================] - 1s 9ms/step - loss: 0.3069 - accuracy: 0.8868 - val_loss: 0.4271 - val_accuracy: 0.8542\n",
            "Epoch 117/200\n",
            "91/93 [============================>.] - ETA: 0s - loss: 0.2950 - accuracy: 0.8907\n",
            "Epoch 117: val_loss improved from 0.41387 to 0.40993, saving model to my_best_np_CVSearch_model_NORMal_1.hdf5\n",
            "93/93 [==============================] - 1s 11ms/step - loss: 0.2964 - accuracy: 0.8900 - val_loss: 0.4099 - val_accuracy: 0.8635\n",
            "Epoch 118/200\n",
            "86/93 [==========================>...] - ETA: 0s - loss: 0.2995 - accuracy: 0.8880\n",
            "Epoch 118: val_loss did not improve from 0.40993\n",
            "93/93 [==============================] - 1s 8ms/step - loss: 0.2965 - accuracy: 0.8895 - val_loss: 0.4210 - val_accuracy: 0.8570\n",
            "Epoch 119/200\n",
            "93/93 [==============================] - ETA: 0s - loss: 0.2957 - accuracy: 0.8938\n",
            "Epoch 119: val_loss did not improve from 0.40993\n",
            "93/93 [==============================] - 1s 8ms/step - loss: 0.2957 - accuracy: 0.8938 - val_loss: 0.4144 - val_accuracy: 0.8592\n",
            "Epoch 120/200\n",
            "87/93 [===========================>..] - ETA: 0s - loss: 0.2935 - accuracy: 0.8912\n",
            "Epoch 120: val_loss did not improve from 0.40993\n",
            "93/93 [==============================] - 1s 8ms/step - loss: 0.2948 - accuracy: 0.8895 - val_loss: 0.4325 - val_accuracy: 0.8513\n",
            "Epoch 121/200\n",
            "93/93 [==============================] - ETA: 0s - loss: 0.2959 - accuracy: 0.8889\n",
            "Epoch 121: val_loss did not improve from 0.40993\n",
            "93/93 [==============================] - 1s 8ms/step - loss: 0.2959 - accuracy: 0.8889 - val_loss: 0.4297 - val_accuracy: 0.8592\n",
            "Epoch 122/200\n",
            "91/93 [============================>.] - ETA: 0s - loss: 0.2947 - accuracy: 0.8938\n",
            "Epoch 122: val_loss improved from 0.40993 to 0.40882, saving model to my_best_np_CVSearch_model_NORMal_1.hdf5\n",
            "93/93 [==============================] - 1s 8ms/step - loss: 0.2953 - accuracy: 0.8938 - val_loss: 0.4088 - val_accuracy: 0.8714\n",
            "Epoch 123/200\n",
            "87/93 [===========================>..] - ETA: 0s - loss: 0.2867 - accuracy: 0.8979\n",
            "Epoch 123: val_loss did not improve from 0.40882\n",
            "93/93 [==============================] - 1s 8ms/step - loss: 0.2923 - accuracy: 0.8958 - val_loss: 0.4201 - val_accuracy: 0.8585\n",
            "Epoch 124/200\n",
            "93/93 [==============================] - ETA: 0s - loss: 0.2931 - accuracy: 0.8940\n",
            "Epoch 124: val_loss improved from 0.40882 to 0.40731, saving model to my_best_np_CVSearch_model_NORMal_1.hdf5\n",
            "93/93 [==============================] - 1s 8ms/step - loss: 0.2931 - accuracy: 0.8940 - val_loss: 0.4073 - val_accuracy: 0.8649\n",
            "Epoch 125/200\n",
            "88/93 [===========================>..] - ETA: 0s - loss: 0.2850 - accuracy: 0.8968\n",
            "Epoch 125: val_loss did not improve from 0.40731\n",
            "93/93 [==============================] - 1s 8ms/step - loss: 0.2843 - accuracy: 0.8967 - val_loss: 0.4119 - val_accuracy: 0.8585\n",
            "Epoch 126/200\n",
            "87/93 [===========================>..] - ETA: 0s - loss: 0.2872 - accuracy: 0.8948\n",
            "Epoch 126: val_loss did not improve from 0.40731\n",
            "93/93 [==============================] - 1s 8ms/step - loss: 0.2889 - accuracy: 0.8945 - val_loss: 0.4108 - val_accuracy: 0.8664\n",
            "Epoch 127/200\n",
            "88/93 [===========================>..] - ETA: 0s - loss: 0.2859 - accuracy: 0.8951\n",
            "Epoch 127: val_loss did not improve from 0.40731\n",
            "93/93 [==============================] - 1s 8ms/step - loss: 0.2830 - accuracy: 0.8965 - val_loss: 0.4140 - val_accuracy: 0.8649\n",
            "Epoch 128/200\n",
            "88/93 [===========================>..] - ETA: 0s - loss: 0.2820 - accuracy: 0.8985\n",
            "Epoch 128: val_loss improved from 0.40731 to 0.39045, saving model to my_best_np_CVSearch_model_NORMal_1.hdf5\n",
            "93/93 [==============================] - 1s 8ms/step - loss: 0.2853 - accuracy: 0.8970 - val_loss: 0.3905 - val_accuracy: 0.8757\n",
            "Epoch 129/200\n",
            "86/93 [==========================>...] - ETA: 0s - loss: 0.2780 - accuracy: 0.8957\n",
            "Epoch 129: val_loss did not improve from 0.39045\n",
            "93/93 [==============================] - 1s 8ms/step - loss: 0.2830 - accuracy: 0.8943 - val_loss: 0.4098 - val_accuracy: 0.8642\n",
            "Epoch 130/200\n",
            "86/93 [==========================>...] - ETA: 0s - loss: 0.2718 - accuracy: 0.9035\n",
            "Epoch 130: val_loss did not improve from 0.39045\n",
            "93/93 [==============================] - 1s 8ms/step - loss: 0.2730 - accuracy: 0.9024 - val_loss: 0.4128 - val_accuracy: 0.8570\n",
            "Epoch 131/200\n",
            "87/93 [===========================>..] - ETA: 0s - loss: 0.2776 - accuracy: 0.8977\n",
            "Epoch 131: val_loss did not improve from 0.39045\n",
            "93/93 [==============================] - 1s 8ms/step - loss: 0.2781 - accuracy: 0.8965 - val_loss: 0.3937 - val_accuracy: 0.8700\n",
            "Epoch 132/200\n",
            "88/93 [===========================>..] - ETA: 0s - loss: 0.2764 - accuracy: 0.8979\n",
            "Epoch 132: val_loss did not improve from 0.39045\n",
            "93/93 [==============================] - 1s 8ms/step - loss: 0.2758 - accuracy: 0.8979 - val_loss: 0.4122 - val_accuracy: 0.8635\n",
            "Epoch 133/200\n",
            "92/93 [============================>.] - ETA: 0s - loss: 0.2769 - accuracy: 0.8986\n",
            "Epoch 133: val_loss did not improve from 0.39045\n",
            "93/93 [==============================] - 1s 8ms/step - loss: 0.2766 - accuracy: 0.8985 - val_loss: 0.4113 - val_accuracy: 0.8678\n",
            "Epoch 134/200\n",
            "91/93 [============================>.] - ETA: 0s - loss: 0.2732 - accuracy: 0.9035\n",
            "Epoch 134: val_loss did not improve from 0.39045\n",
            "93/93 [==============================] - 1s 8ms/step - loss: 0.2726 - accuracy: 0.9044 - val_loss: 0.3981 - val_accuracy: 0.8693\n",
            "Epoch 135/200\n",
            "92/93 [============================>.] - ETA: 0s - loss: 0.2655 - accuracy: 0.9058\n",
            "Epoch 135: val_loss did not improve from 0.39045\n",
            "93/93 [==============================] - 1s 8ms/step - loss: 0.2649 - accuracy: 0.9060 - val_loss: 0.4114 - val_accuracy: 0.8657\n",
            "Epoch 136/200\n",
            "89/93 [===========================>..] - ETA: 0s - loss: 0.2713 - accuracy: 0.9004\n",
            "Epoch 136: val_loss did not improve from 0.39045\n",
            "93/93 [==============================] - 1s 8ms/step - loss: 0.2720 - accuracy: 0.8997 - val_loss: 0.4053 - val_accuracy: 0.8621\n",
            "Epoch 137/200\n",
            "93/93 [==============================] - ETA: 0s - loss: 0.2722 - accuracy: 0.9004\n",
            "Epoch 137: val_loss did not improve from 0.39045\n",
            "93/93 [==============================] - 1s 8ms/step - loss: 0.2722 - accuracy: 0.9004 - val_loss: 0.4020 - val_accuracy: 0.8664\n",
            "Epoch 138/200\n",
            "92/93 [============================>.] - ETA: 0s - loss: 0.2617 - accuracy: 0.9045\n",
            "Epoch 138: val_loss did not improve from 0.39045\n",
            "93/93 [==============================] - 1s 8ms/step - loss: 0.2617 - accuracy: 0.9046 - val_loss: 0.4002 - val_accuracy: 0.8693\n",
            "Epoch 139/200\n",
            "91/93 [============================>.] - ETA: 0s - loss: 0.2716 - accuracy: 0.9011\n",
            "Epoch 139: val_loss did not improve from 0.39045\n",
            "93/93 [==============================] - 1s 8ms/step - loss: 0.2708 - accuracy: 0.9010 - val_loss: 0.4150 - val_accuracy: 0.8599\n",
            "Epoch 140/200\n",
            "93/93 [==============================] - ETA: 0s - loss: 0.2666 - accuracy: 0.9042\n",
            "Epoch 140: val_loss did not improve from 0.39045\n",
            "93/93 [==============================] - 1s 8ms/step - loss: 0.2666 - accuracy: 0.9042 - val_loss: 0.4150 - val_accuracy: 0.8606\n",
            "Epoch 141/200\n",
            "93/93 [==============================] - ETA: 0s - loss: 0.2641 - accuracy: 0.9055\n",
            "Epoch 141: val_loss did not improve from 0.39045\n",
            "93/93 [==============================] - 1s 8ms/step - loss: 0.2641 - accuracy: 0.9055 - val_loss: 0.3993 - val_accuracy: 0.8678\n",
            "Epoch 142/200\n",
            "86/93 [==========================>...] - ETA: 0s - loss: 0.2740 - accuracy: 0.8986\n",
            "Epoch 142: val_loss did not improve from 0.39045\n",
            "93/93 [==============================] - 1s 8ms/step - loss: 0.2721 - accuracy: 0.8986 - val_loss: 0.4043 - val_accuracy: 0.8649\n",
            "Epoch 143/200\n",
            "93/93 [==============================] - ETA: 0s - loss: 0.2541 - accuracy: 0.9103\n",
            "Epoch 143: val_loss did not improve from 0.39045\n",
            "93/93 [==============================] - 1s 8ms/step - loss: 0.2541 - accuracy: 0.9103 - val_loss: 0.3988 - val_accuracy: 0.8657\n",
            "Epoch 144/200\n",
            "86/93 [==========================>...] - ETA: 0s - loss: 0.2524 - accuracy: 0.9091\n",
            "Epoch 144: val_loss did not improve from 0.39045\n",
            "93/93 [==============================] - 1s 8ms/step - loss: 0.2522 - accuracy: 0.9087 - val_loss: 0.4055 - val_accuracy: 0.8592\n",
            "Epoch 145/200\n",
            "87/93 [===========================>..] - ETA: 0s - loss: 0.2540 - accuracy: 0.9079\n",
            "Epoch 145: val_loss did not improve from 0.39045\n",
            "93/93 [==============================] - 1s 8ms/step - loss: 0.2551 - accuracy: 0.9073 - val_loss: 0.4003 - val_accuracy: 0.8685\n",
            "Epoch 146/200\n",
            "93/93 [==============================] - ETA: 0s - loss: 0.2574 - accuracy: 0.9060\n",
            "Epoch 146: val_loss improved from 0.39045 to 0.38613, saving model to my_best_np_CVSearch_model_NORMal_1.hdf5\n",
            "93/93 [==============================] - 1s 10ms/step - loss: 0.2574 - accuracy: 0.9060 - val_loss: 0.3861 - val_accuracy: 0.8743\n",
            "Epoch 147/200\n",
            "90/93 [============================>.] - ETA: 0s - loss: 0.2457 - accuracy: 0.9126\n",
            "Epoch 147: val_loss did not improve from 0.38613\n",
            "93/93 [==============================] - 1s 9ms/step - loss: 0.2473 - accuracy: 0.9119 - val_loss: 0.3992 - val_accuracy: 0.8657\n",
            "Epoch 148/200\n",
            "88/93 [===========================>..] - ETA: 0s - loss: 0.2533 - accuracy: 0.9062\n",
            "Epoch 148: val_loss did not improve from 0.38613\n",
            "93/93 [==============================] - 1s 8ms/step - loss: 0.2545 - accuracy: 0.9058 - val_loss: 0.3944 - val_accuracy: 0.8657\n",
            "Epoch 149/200\n",
            "91/93 [============================>.] - ETA: 0s - loss: 0.2513 - accuracy: 0.9079\n",
            "Epoch 149: val_loss did not improve from 0.38613\n",
            "93/93 [==============================] - 1s 8ms/step - loss: 0.2496 - accuracy: 0.9087 - val_loss: 0.4096 - val_accuracy: 0.8728\n",
            "Epoch 150/200\n",
            "92/93 [============================>.] - ETA: 0s - loss: 0.2456 - accuracy: 0.9107\n",
            "Epoch 150: val_loss improved from 0.38613 to 0.38014, saving model to my_best_np_CVSearch_model_NORMal_1.hdf5\n",
            "93/93 [==============================] - 1s 8ms/step - loss: 0.2453 - accuracy: 0.9107 - val_loss: 0.3801 - val_accuracy: 0.8757\n",
            "Epoch 151/200\n",
            "92/93 [============================>.] - ETA: 0s - loss: 0.2526 - accuracy: 0.9069\n",
            "Epoch 151: val_loss did not improve from 0.38014\n",
            "93/93 [==============================] - 1s 8ms/step - loss: 0.2517 - accuracy: 0.9073 - val_loss: 0.3915 - val_accuracy: 0.8736\n",
            "Epoch 152/200\n",
            "91/93 [============================>.] - ETA: 0s - loss: 0.2417 - accuracy: 0.9139\n",
            "Epoch 152: val_loss did not improve from 0.38014\n",
            "93/93 [==============================] - 1s 8ms/step - loss: 0.2435 - accuracy: 0.9134 - val_loss: 0.4095 - val_accuracy: 0.8685\n",
            "Epoch 153/200\n",
            "86/93 [==========================>...] - ETA: 0s - loss: 0.2434 - accuracy: 0.9120\n",
            "Epoch 153: val_loss did not improve from 0.38014\n",
            "93/93 [==============================] - 1s 8ms/step - loss: 0.2445 - accuracy: 0.9116 - val_loss: 0.4055 - val_accuracy: 0.8671\n",
            "Epoch 154/200\n",
            "88/93 [===========================>..] - ETA: 0s - loss: 0.2468 - accuracy: 0.9117\n",
            "Epoch 154: val_loss did not improve from 0.38014\n",
            "93/93 [==============================] - 1s 8ms/step - loss: 0.2462 - accuracy: 0.9114 - val_loss: 0.4115 - val_accuracy: 0.8707\n",
            "Epoch 155/200\n",
            "93/93 [==============================] - ETA: 0s - loss: 0.2428 - accuracy: 0.9116\n",
            "Epoch 155: val_loss did not improve from 0.38014\n",
            "93/93 [==============================] - 1s 8ms/step - loss: 0.2428 - accuracy: 0.9116 - val_loss: 0.4114 - val_accuracy: 0.8628\n",
            "Epoch 156/200\n",
            "92/93 [============================>.] - ETA: 0s - loss: 0.2525 - accuracy: 0.9072\n",
            "Epoch 156: val_loss did not improve from 0.38014\n",
            "93/93 [==============================] - 1s 8ms/step - loss: 0.2520 - accuracy: 0.9076 - val_loss: 0.3929 - val_accuracy: 0.8721\n",
            "Epoch 157/200\n",
            "93/93 [==============================] - ETA: 0s - loss: 0.2437 - accuracy: 0.9132\n",
            "Epoch 157: val_loss did not improve from 0.38014\n",
            "93/93 [==============================] - 1s 9ms/step - loss: 0.2437 - accuracy: 0.9132 - val_loss: 0.4044 - val_accuracy: 0.8678\n",
            "Epoch 158/200\n",
            "86/93 [==========================>...] - ETA: 0s - loss: 0.2364 - accuracy: 0.9167\n",
            "Epoch 158: val_loss did not improve from 0.38014\n",
            "93/93 [==============================] - 1s 8ms/step - loss: 0.2367 - accuracy: 0.9171 - val_loss: 0.4172 - val_accuracy: 0.8606\n",
            "Epoch 159/200\n",
            "91/93 [============================>.] - ETA: 0s - loss: 0.2342 - accuracy: 0.9170\n",
            "Epoch 159: val_loss did not improve from 0.38014\n",
            "93/93 [==============================] - 1s 8ms/step - loss: 0.2340 - accuracy: 0.9175 - val_loss: 0.4291 - val_accuracy: 0.8563\n",
            "Epoch 160/200\n",
            "91/93 [============================>.] - ETA: 0s - loss: 0.2338 - accuracy: 0.9152\n",
            "Epoch 160: val_loss did not improve from 0.38014\n",
            "93/93 [==============================] - 1s 8ms/step - loss: 0.2331 - accuracy: 0.9157 - val_loss: 0.3996 - val_accuracy: 0.8743\n",
            "Epoch 161/200\n",
            "91/93 [============================>.] - ETA: 0s - loss: 0.2433 - accuracy: 0.9125\n",
            "Epoch 161: val_loss did not improve from 0.38014\n",
            "93/93 [==============================] - 1s 8ms/step - loss: 0.2436 - accuracy: 0.9128 - val_loss: 0.4034 - val_accuracy: 0.8721\n",
            "Epoch 162/200\n",
            "91/93 [============================>.] - ETA: 0s - loss: 0.2444 - accuracy: 0.9147\n",
            "Epoch 162: val_loss did not improve from 0.38014\n",
            "93/93 [==============================] - 1s 8ms/step - loss: 0.2452 - accuracy: 0.9143 - val_loss: 0.3809 - val_accuracy: 0.8714\n",
            "Epoch 163/200\n",
            "92/93 [============================>.] - ETA: 0s - loss: 0.2262 - accuracy: 0.9217\n",
            "Epoch 163: val_loss did not improve from 0.38014\n",
            "93/93 [==============================] - 1s 8ms/step - loss: 0.2257 - accuracy: 0.9222 - val_loss: 0.4110 - val_accuracy: 0.8657\n",
            "Epoch 164/200\n",
            "89/93 [===========================>..] - ETA: 0s - loss: 0.2384 - accuracy: 0.9187\n",
            "Epoch 164: val_loss did not improve from 0.38014\n",
            "93/93 [==============================] - 1s 8ms/step - loss: 0.2358 - accuracy: 0.9195 - val_loss: 0.3913 - val_accuracy: 0.8728\n",
            "Epoch 165/200\n",
            "88/93 [===========================>..] - ETA: 0s - loss: 0.2264 - accuracy: 0.9186\n",
            "Epoch 165: val_loss did not improve from 0.38014\n",
            "93/93 [==============================] - 1s 8ms/step - loss: 0.2259 - accuracy: 0.9184 - val_loss: 0.3921 - val_accuracy: 0.8714\n",
            "Epoch 166/200\n",
            "91/93 [============================>.] - ETA: 0s - loss: 0.2242 - accuracy: 0.9198\n",
            "Epoch 166: val_loss did not improve from 0.38014\n",
            "93/93 [==============================] - 1s 8ms/step - loss: 0.2241 - accuracy: 0.9198 - val_loss: 0.3963 - val_accuracy: 0.8678\n",
            "Epoch 167/200\n",
            "89/93 [===========================>..] - ETA: 0s - loss: 0.2226 - accuracy: 0.9223\n",
            "Epoch 167: val_loss did not improve from 0.38014\n",
            "93/93 [==============================] - 1s 8ms/step - loss: 0.2252 - accuracy: 0.9206 - val_loss: 0.3974 - val_accuracy: 0.8721\n",
            "Epoch 168/200\n",
            "86/93 [==========================>...] - ETA: 0s - loss: 0.2180 - accuracy: 0.9209\n",
            "Epoch 168: val_loss did not improve from 0.38014\n",
            "93/93 [==============================] - 1s 8ms/step - loss: 0.2186 - accuracy: 0.9213 - val_loss: 0.3903 - val_accuracy: 0.8721\n",
            "Epoch 169/200\n",
            "91/93 [============================>.] - ETA: 0s - loss: 0.2236 - accuracy: 0.9194\n",
            "Epoch 169: val_loss did not improve from 0.38014\n",
            "93/93 [==============================] - 1s 8ms/step - loss: 0.2240 - accuracy: 0.9191 - val_loss: 0.4022 - val_accuracy: 0.8707\n",
            "Epoch 170/200\n",
            "87/93 [===========================>..] - ETA: 0s - loss: 0.2207 - accuracy: 0.9245\n",
            "Epoch 170: val_loss did not improve from 0.38014\n",
            "Restoring model weights from the end of the best epoch: 150.\n",
            "93/93 [==============================] - 1s 8ms/step - loss: 0.2198 - accuracy: 0.9236 - val_loss: 0.3841 - val_accuracy: 0.8714\n",
            "Epoch 170: early stopping\n"
          ]
        }
      ]
    },
    {
      "cell_type": "markdown",
      "source": [
        "### 6.2 EValuate model\n",
        "\n",
        "####• Learning curves (Loss)(skip)\n",
        "\n",
        "####• Learning curves (Accuracy)\n",
        "\n",
        "####• Confusion matrix"
      ],
      "metadata": {
        "id": "ktZJwex-0Kn0"
      }
    },
    {
      "cell_type": "code",
      "source": [
        "history_dict = history.history\n",
        "\n",
        "\t# learning curve\n",
        "\t# accuracy\n",
        "  \n",
        "acc = history_dict['accuracy']\n",
        "val_acc = history_dict['val_accuracy']\n",
        "\t\n",
        "\n",
        "\t# loss\n",
        "loss = history_dict['loss']\n",
        "val_loss = history_dict['val_loss']\n",
        "\t\n",
        "\n",
        "\t# range of X (no. of epochs)\n",
        "epochs = range(1, len(acc) + 1)"
      ],
      "metadata": {
        "id": "r_NPHEHnRNq0"
      },
      "execution_count": null,
      "outputs": []
    },
    {
      "cell_type": "code",
      "source": [
        "# plot\n",
        "# \"r\" is for \"solid red line\"\n",
        "plt.plot(epochs, acc, 'r', label='Training accuracy')\n",
        "# b is for \"solid blue line\"\n",
        "plt.plot(epochs, val_acc, 'b', label='Validation accuracy')\n",
        "plt.title('Training and validation accuracy')\n",
        "plt.xlabel('Epochs')\n",
        "plt.ylabel('Accuracy')\n",
        "plt.legend()\n",
        "\n",
        "\n",
        "plt.show()"
      ],
      "metadata": {
        "colab": {
          "base_uri": "https://localhost:8080/",
          "height": 294
        },
        "id": "vjfjn7DHXBKD",
        "outputId": "268160af-84a3-4bfb-8493-68e948b527aa"
      },
      "execution_count": null,
      "outputs": [
        {
          "output_type": "display_data",
          "data": {
            "text/plain": [
              "<Figure size 432x288 with 1 Axes>"
            ],
            "image/png": "[encoded data removed]"
          },
          "metadata": {
            "needs_background": "light"
          }
        }
      ]
    },
    {
      "cell_type": "code",
      "source": [
        "plt.plot(history.history['loss'])\n",
        "plt.plot(history.history['val_loss'])\n",
        "plt.title('Model loss')\n",
        "plt.ylabel('Loss')\n",
        "plt.xlabel('epochs')\n",
        "plt.legend(['Train','Cross-Validation'],loc='upper left')\n",
        "plt.show()"
      ],
      "metadata": {
        "colab": {
          "base_uri": "https://localhost:8080/",
          "height": 294
        },
        "id": "VtxPEjrJXFL0",
        "outputId": "a692f18e-41a2-4f0f-de25-92fcfd49dd45"
      },
      "execution_count": null,
      "outputs": [
        {
          "output_type": "display_data",
          "data": {
            "text/plain": [
              "<Figure size 432x288 with 1 Axes>"
            ],
            "image/png": "[encoded data removed]"
          },
          "metadata": {
            "needs_background": "light"
          }
        }
      ]
    },
    {
      "cell_type": "markdown",
      "source": [
        "###  Save the model arhitecture to asingle file"
      ],
      "metadata": {
        "id": "Z7KWFo-GXY04"
      }
    },
    {
      "cell_type": "code",
      "source": [
        "network.save(\"model_17class87pct_15March.h5\")\n",
        "print(\"save model to  a disk\")"
      ],
      "metadata": {
        "colab": {
          "base_uri": "https://localhost:8080/"
        },
        "id": "0_eI8fyMXNxS",
        "outputId": "610d54d9-8dba-45be-e682-ae0d8bdd9c72"
      },
      "execution_count": null,
      "outputs": [
        {
          "output_type": "stream",
          "name": "stdout",
          "text": [
            "save model to  a disk\n"
          ]
        }
      ]
    },
    {
      "cell_type": "markdown",
      "source": [
        "###  PREDICTING SOME VALUES"
      ],
      "metadata": {
        "id": "VUX_rTO4X4JT"
      }
    },
    {
      "cell_type": "code",
      "source": [
        "from sklearn.metrics import confusion_matrix\n",
        "from sklearn.metrics import classification_report\n",
        "from tensorflow.keras.optimizers import SGD\n",
        "# x_new =np.array([[ 262,  145,  471, 1185, 1340, 1361 ,1451,  761 , 369]])\n",
        "# voda = np.array([[66,  102 ,  84  , 65  , 69  , 67,   60 , 644 , 321]])\n",
        "# sb = np.array([[260 , 112 , 470, 1185, 1339, 1360 ,1451,  762,  370]])\n",
        "# dec = np.array([[308,  175 , 562, 2866, 3565 ,3772 ,3810, 1382 , 529]])\n",
        "# preds = (network.predict(dec)>0.4).astype(int) # see how the model did!\n",
        "preds = network.predict(XTRAIN) \n",
        "# print(preds)\n",
        "#print(preds[0] )# i'm spreading that prediction across three nodes and they sum to 1\n",
        "# print(np.sum(preds[0])) # sum it up! Should be 1"
      ],
      "metadata": {
        "id": "g4mbJhzDXw_S"
      },
      "execution_count": null,
      "outputs": []
    },
    {
      "cell_type": "code",
      "source": [
        "# Almost a perfect prediction\n",
        "# actual is left, predicted is top\n",
        "# names can be found by inspecting Y\n",
        "matrix = confusion_matrix(dummy_y_tr.argmax(axis=1), preds.argmax(axis=1))\n",
        "matrix"
      ],
      "metadata": {
        "colab": {
          "base_uri": "https://localhost:8080/"
        },
        "id": "FQ_Z98TYYiDm",
        "outputId": "8bdca771-a17d-4825-a1ae-97972f9cc759"
      },
      "execution_count": null,
      "outputs": [
        {
          "output_type": "execute_result",
          "data": {
            "text/plain": [
              "array([[451,   0,   0,   0,   0,   0,   0,   0,   0,   0,   2,   0,   0,\n",
              "          0,   0,   0,   0],\n",
              "       [  0, 239,  15,  62,  21,   0,  10,   1,   4,   0,   0,   0,   0,\n",
              "          0,   0,   0,   0],\n",
              "       [  0,   3, 388,   0,   3,   0,   0,   0,   3,   0,   0,   0,   0,\n",
              "          0,   0,   0,   0],\n",
              "       [  0,  30,   0, 335,  12,   3,  17,   1,   9,   0,   1,   0,   6,\n",
              "          0,   0,   1,   0],\n",
              "       [  0,  20,   1,  53, 301,   0,  25,   0,   2,   0,   0,   0,   0,\n",
              "          0,   0,   0,   0],\n",
              "       [  0,   0,   0,   0,   0, 338,   2,   7,  28,   0,   0,   2,   0,\n",
              "          0,   0,   0,   4],\n",
              "       [  0,   0,   2,  16,   3,   0, 354,   6,  11,   0,   0,   0,   0,\n",
              "          0,   0,   0,   1],\n",
              "       [  0,   0,   7,   0,   3,  25,  10, 367,  10,   0,   0,   3,   0,\n",
              "          0,   0,   0,   1],\n",
              "       [  0,   2,   5,   3,   3,  50,  38,  19, 283,   0,   0,   2,   1,\n",
              "          0,   0,   0,   0],\n",
              "       [  0,   0,   0,   0,   0,   0,   0,   0,   0, 404,   0,   0,   0,\n",
              "          0,   0,   0,   0],\n",
              "       [  0,   0,   0,   0,   0,   0,   0,   0,   0,   0, 400,   0,   0,\n",
              "          0,   0,   0,   0],\n",
              "       [  0,   0,   1,   0,   0,   3,   0,   5,   4,   0,   0, 393,   0,\n",
              "          0,   0,   0,   0],\n",
              "       [  0,   0,   0,   0,   0,   3,   0,   1,   0,   0,   0,   2, 376,\n",
              "          0,   0,   0,   0],\n",
              "       [  0,   0,   0,   0,   0,   0,   0,   0,   0,   0,   1,   0,   0,\n",
              "        439,   0,  40,   0],\n",
              "       [  0,   0,   0,   0,   0,   0,   0,   0,   0,   0,   0,   0,   0,\n",
              "          0, 377,   0,   0],\n",
              "       [  0,   0,   0,   0,   0,   0,   0,   0,   1,   0,   0,   0,   1,\n",
              "         22,   2, 455,   2],\n",
              "       [  0,   0,   0,   0,   0,   0,   0,   0,   0,   0,   0,   0,   0,\n",
              "          0,   0,   0, 399]])"
            ]
          },
          "metadata": {},
          "execution_count": 42
        }
      ]
    },
    {
      "cell_type": "code",
      "source": [
        "# more detail on how well things were predicted\n",
        "print(classification_report(dummy_y_tr.argmax(axis=1), preds.argmax(axis=1)))\n",
        "\t##               precision    recall  f1-score   support"
      ],
      "metadata": {
        "colab": {
          "base_uri": "https://localhost:8080/"
        },
        "id": "w-lNvypaYmwW",
        "outputId": "2e8e5714-bf2c-4c08-e1ef-39be3f8b9780"
      },
      "execution_count": null,
      "outputs": [
        {
          "output_type": "stream",
          "name": "stdout",
          "text": [
            "              precision    recall  f1-score   support\n",
            "\n",
            "           0       1.00      1.00      1.00       453\n",
            "           1       0.81      0.68      0.74       352\n",
            "           2       0.93      0.98      0.95       397\n",
            "           3       0.71      0.81      0.76       415\n",
            "           4       0.87      0.75      0.80       402\n",
            "           5       0.80      0.89      0.84       381\n",
            "           6       0.78      0.90      0.83       393\n",
            "           7       0.90      0.86      0.88       426\n",
            "           8       0.80      0.70      0.74       406\n",
            "           9       1.00      1.00      1.00       404\n",
            "          10       0.99      1.00      1.00       400\n",
            "          11       0.98      0.97      0.97       406\n",
            "          12       0.98      0.98      0.98       382\n",
            "          13       0.95      0.91      0.93       480\n",
            "          14       0.99      1.00      1.00       377\n",
            "          15       0.92      0.94      0.93       483\n",
            "          16       0.98      1.00      0.99       399\n",
            "\n",
            "    accuracy                           0.91      6956\n",
            "   macro avg       0.91      0.90      0.90      6956\n",
            "weighted avg       0.91      0.91      0.90      6956\n",
            "\n"
          ]
        }
      ]
    },
    {
      "cell_type": "code",
      "source": [
        "from sklearn.metrics import confusion_matrix\n",
        "ax = plt.subplot()\n",
        "# # predict_results = model.predict(normed_test_data)\n",
        "\n",
        "# #predict_results= (predict_results.argmax())\n",
        "# predict_results= predict_results.argmax(axis=1)  #Radi\n",
        "# predict_results=( predict_results> 0.5)\n",
        "#cm = confusion_matrix(test_labels1,predict_results) #Radi\n",
        "\n",
        "cm =confusion_matrix(dummy_y_tr.argmax(axis=1), preds.argmax(axis=1))\n",
        "sns.heatmap(cm,annot=True,ax=ax);  #annotate cells\n",
        "#labels , title, tics\n",
        "ax.set_xlabel('Predicted labels')\n",
        "ax.set_ylabel('True lables')\n",
        "ax.set_title('Confusion matrix')\n",
        "\n",
        "#ax.xaxis.set_ticklabels(['Positive','Negative']) \n",
        "#ax.yaxis.set_ticklabels(['Positive','Negative']) "
      ],
      "metadata": {
        "colab": {
          "base_uri": "https://localhost:8080/",
          "height": 312
        },
        "id": "aQprAgrUaLIK",
        "outputId": "3fd361a6-39ec-4c0b-a21a-d0998a54299b"
      },
      "execution_count": null,
      "outputs": [
        {
          "output_type": "execute_result",
          "data": {
            "text/plain": [
              "Text(0.5, 1.0, 'Confusion matrix')"
            ]
          },
          "metadata": {},
          "execution_count": 44
        },
        {
          "output_type": "display_data",
          "data": {
            "text/plain": [
              "<Figure size 432x288 with 2 Axes>"
            ],
            "image/png": "[encoded data removed]"
          },
          "metadata": {
            "needs_background": "light"
          }
        }
      ]
    },
    {
      "cell_type": "code",
      "source": [
        "scores = network.evaluate(XVALIDATION, dummy_y_val)\n",
        "print(\"\\n%s: %.2f%%\" % (network.metrics_names[1], scores[1]*100))"
      ],
      "metadata": {
        "colab": {
          "base_uri": "https://localhost:8080/"
        },
        "id": "aboj0xjOaYo6",
        "outputId": "ebdee2c8-ec9f-49d3-a345-e2733af22383"
      },
      "execution_count": null,
      "outputs": [
        {
          "output_type": "stream",
          "name": "stdout",
          "text": [
            "55/55 [==============================] - 0s 3ms/step - loss: 0.3574 - accuracy: 0.8832\n",
            "\n",
            "accuracy: 88.32%\n"
          ]
        }
      ]
    },
    {
      "cell_type": "code",
      "source": [
        "predictions = network.predict(x=XVALIDATION,batch_size=10,verbose=0)\n",
        "rounded_predictions = np.argmax(predictions,axis=-1)\n",
        "for i in range(10):\n",
        "  print(rounded_predictions[i])"
      ],
      "metadata": {
        "colab": {
          "base_uri": "https://localhost:8080/"
        },
        "id": "cXjBaLE2atba",
        "outputId": "092dff90-647e-41aa-d7d5-19d6c2caa21d"
      },
      "execution_count": null,
      "outputs": [
        {
          "output_type": "stream",
          "name": "stdout",
          "text": [
            "15\n",
            "4\n",
            "14\n",
            "3\n",
            "13\n",
            "2\n",
            "5\n",
            "6\n",
            "3\n",
            "5\n"
          ]
        }
      ]
    },
    {
      "cell_type": "markdown",
      "source": [
        " ### SAVE MODEL AND RESTORE IT FOR PREDICTION"
      ],
      "metadata": {
        "id": "382wakQ4fove"
      }
    },
    {
      "cell_type": "code",
      "source": [
        "import numpy as np\n",
        "import pandas as pd\n",
        "from PIL import Image\n",
        "import tensorflow as tf\n",
        "import matplotlib.pyplot as plt\n",
        "from matplotlib import colors\n",
        "# !pip install rasterio\n",
        "import rasterio\n",
        "# !pip install pyrsgis\n",
        "import pyrsgis\n",
        "from pyrsgis.convert import changeDimension"
      ],
      "metadata": {
        "id": "8pghau2JdkuB"
      },
      "execution_count": null,
      "outputs": []
    },
    {
      "cell_type": "code",
      "source": [
        "# in Tensorflow...\n",
        "new_model = tf.keras.models.load_model(\"model_17class84pct_88.h5\")\n",
        "\n",
        "# #load model\n",
        "# network_reload = load_model()\n",
        "# # Show the model architecture\n",
        "new_model.summary()"
      ],
      "metadata": {
        "colab": {
          "base_uri": "https://localhost:8080/"
        },
        "id": "Tr_vw8VbhoKW",
        "outputId": "3f138b81-b1ee-4f10-9a1d-0d9681462d8e"
      },
      "execution_count": null,
      "outputs": [
        {
          "output_type": "stream",
          "name": "stdout",
          "text": [
            "Model: \"sequential\"\n",
            "_________________________________________________________________\n",
            " Layer (type)                Output Shape              Param #   \n",
            "=================================================================\n",
            " dense (Dense)               (None, 512)               5632      \n",
            "                                                                 \n",
            " dense_1 (Dense)             (None, 256)               131328    \n",
            "                                                                 \n",
            " dense_2 (Dense)             (None, 128)               32896     \n",
            "                                                                 \n",
            " dense_3 (Dense)             (None, 64)                8256      \n",
            "                                                                 \n",
            " dense_4 (Dense)             (None, 17)                1105      \n",
            "                                                                 \n",
            "=================================================================\n",
            "Total params: 179,217\n",
            "Trainable params: 179,217\n",
            "Non-trainable params: 0\n",
            "_________________________________________________________________\n"
          ]
        }
      ]
    },
    {
      "cell_type": "markdown",
      "source": [
        "###  Predicting labels on a unknown image\n",
        "when we use a new image for prediction we have to make sure that we work with the same bands. if we used 9 of 10 bands to train a model, then we need to use the same bands for prediction\n",
        "\n",
        "Also, if we trained model on normalized data we have to use the same parameters as we normalize new unknow image"
      ],
      "metadata": {
        "id": "JWUAirI3rtJN"
      }
    },
    {
      "cell_type": "code",
      "source": [
        "#Open an image (input data)\n",
        "#img_path =r'/content/drive/MyDrive/aslc_20_cnn/play_2.dat'\n",
        "img_path =r'/content/deep_learn/MyDrive/Jaxa_2022/S2_Ph_32611_20m_4Predict_1.tif' \n",
        "#smaller  - S2_Ph_32611_20m_4Predict_1.tif\n",
        "# img_path = '/content/deep_learn/MyDrive/aslc_20_cnn/F_20_mosaic_ground_sub_4_pred_.tif' \n",
        "im_4_pred = rasterio.open(img_path)\n",
        "im_4_predict = im_4_pred.read() \n",
        "# print(im_4_pred.count)\n",
        "rows,cols = im_4_pred.shape\n",
        "print(\"rows,cols:\",rows,cols)\n",
        "sizes = im_4_predict.shape\n",
        "print(\"size:\",sizes)\n",
        "bands,height, width= sizes\n",
        "print(bands,height,width)"
      ],
      "metadata": {
        "colab": {
          "base_uri": "https://localhost:8080/"
        },
        "id": "gf6h6z4Ghzjm",
        "outputId": "48864b63-b66c-45d6-8f7d-27c2d3aaa622"
      },
      "execution_count": null,
      "outputs": [
        {
          "output_type": "stream",
          "name": "stdout",
          "text": [
            "rows,cols: 418 511\n",
            "size: (14, 418, 511)\n",
            "14 418 511\n"
          ]
        }
      ]
    },
    {
      "cell_type": "code",
      "source": [
        "#here we indicate what bands we are using for prediction\n",
        "bands = [1,2,3,4,5,6,7,8,9,10] #we excluded the 1st band (0) which is blue 10m Sent2\n",
        "#bands = [0,1,2,3,4,5,6,7,8,9] #this is the  full image bands array (10 and 20m bands)\n",
        "#they start from 'B2' and end at 'B12'\n",
        "#bands = [2,3,4,5,6,7,8,9]\n",
        "for i in range(len(bands)):\n",
        "  print(bands[i])"
      ],
      "metadata": {
        "colab": {
          "base_uri": "https://localhost:8080/"
        },
        "id": "wq934xudjT9E",
        "outputId": "09f8cde4-eb5c-4386-dc73-9c835d263407"
      },
      "execution_count": null,
      "outputs": [
        {
          "output_type": "stream",
          "name": "stdout",
          "text": [
            "1\n",
            "2\n",
            "3\n",
            "4\n",
            "5\n",
            "6\n",
            "7\n",
            "8\n",
            "9\n",
            "10\n"
          ]
        }
      ]
    },
    {
      "cell_type": "code",
      "source": [
        "out = np.zeros(sizes[1] * sizes[2],dtype='float32')\n",
        "print(\"outsh:\",out.shape)\n",
        "output = out.reshape(sizes[1],sizes[2])\n",
        "print(\"out:\",output.shape)\n",
        "#define output array for the classified image/result\n",
        "# How many rows and columns?\n",
        "print('Image size is: {r} rows x {c} columns\\n'.format(r=rows, c=cols))\n",
        "print(type(im_4_pred),im_4_pred.shape)"
      ],
      "metadata": {
        "colab": {
          "base_uri": "https://localhost:8080/"
        },
        "id": "NpOoZ-LYjyKF",
        "outputId": "7ee1d9c4-b136-4f13-91cf-e5412257c899"
      },
      "execution_count": null,
      "outputs": [
        {
          "output_type": "stream",
          "name": "stdout",
          "text": [
            "outsh: (213598,)\n",
            "out: (418, 511)\n",
            "Image size is: 418 rows x 511 columns\n",
            "\n",
            "<class 'rasterio.io.DatasetReader'> (418, 511)\n"
          ]
        }
      ]
    },
    {
      "cell_type": "code",
      "source": [
        "# Loop throuhg the whole image\n",
        "for y in range(rows):#rows\n",
        "  for x in range(cols): #cols    \n",
        "    ##############x_vec = new_img_norm [bands,y,x ]\n",
        "    x_vec =im_4_predict[bands,y,x]  #selected Sentinel-2 bands   \n",
        "    #normalize input image because model is based on  normalized data\n",
        "    x_vect = (x_vec - mean)/std\n",
        "    #we have ot reshape it tofit the model\n",
        "    x_vect = np.reshape(x_vect,(1,10)) \n",
        "\n",
        "    preds = network.predict(x_vect)\n",
        "    ind = np.argmax(preds)\n",
        "    output[y,x] = ind\n",
        "\n",
        "# EXPORT predicted image\n",
        "# Register GDAL format drivers and configuration options with a\n",
        "# context manager.\n",
        "with rasterio.Env():\n",
        "\n",
        "    # Write an array as a raster band to a new 8-bit file. For\n",
        "    # the new file's profile, we start with the profile of the source\n",
        "    profile = im_4_pred.profile\n",
        "\n",
        "    # And then change the band count to 1, set the\n",
        "    # dtype to uint8, and specify LZW compression.\n",
        "    profile.update( dtype=rasterio.uint8, count=1,   compress='lzw')\n",
        "\n",
        "    with rasterio.open('predicted_play4_Normalized.tif', 'w', **profile) as dst:\n",
        "        dst.write(output.astype(rasterio.uint8), 1)\n",
        "\n",
        "# At the end of the ``with rasterio.Env()`` block, context\n",
        "# manager exits and all drivers are de-registered."
      ],
      "metadata": {
        "id": "956TSAycj9c1"
      },
      "execution_count": null,
      "outputs": []
    },
    {
      "cell_type": "code",
      "source": [
        "# (predsimg>0.4).astype(int)[0]\n",
        "output.shape\n",
        "output[:2,:10]"
      ],
      "metadata": {
        "colab": {
          "base_uri": "https://localhost:8080/"
        },
        "id": "ZVyl-xCWk9ql",
        "outputId": "65a5368c-bf1a-4865-d447-f859f32b23ce"
      },
      "execution_count": null,
      "outputs": [
        {
          "output_type": "execute_result",
          "data": {
            "text/plain": [
              "array([[3., 3., 3., 3., 3., 3., 3., 3., 3., 3.],\n",
              "       [3., 3., 3., 3., 3., 3., 3., 3., 3., 3.]], dtype=float32)"
            ]
          },
          "metadata": {},
          "execution_count": 53
        }
      ]
    },
    {
      "cell_type": "code",
      "source": [
        "#before we create a map of predicted image , we need to know what classes have been modeled.\n",
        "# np.argmax([0, 0, 0, 0, 0, 1, 0])\n",
        "np.unique(output)"
      ],
      "metadata": {
        "colab": {
          "base_uri": "https://localhost:8080/"
        },
        "id": "CZs0lhCL3X1e",
        "outputId": "1b049b16-8699-4faa-b204-1215e1a47dc1"
      },
      "execution_count": null,
      "outputs": [
        {
          "output_type": "execute_result",
          "data": {
            "text/plain": [
              "array([ 0.,  1.,  2.,  3.,  4.,  5.,  6.,  7.,  8.,  9., 10., 11., 12.,\n",
              "       13., 14., 15., 16.], dtype=float32)"
            ]
          },
          "metadata": {},
          "execution_count": 54
        }
      ]
    },
    {
      "cell_type": "code",
      "source": [
        "import numpy as np\n",
        "import pandas as pd\n",
        "from PIL import Image\n",
        "import tensorflow as tf\n",
        "import matplotlib.pyplot as plt\n",
        "from matplotlib import colors"
      ],
      "metadata": {
        "id": "Di0Jqc5g3cle"
      },
      "execution_count": null,
      "outputs": []
    },
    {
      "cell_type": "code",
      "source": [
        "#myCmap = colors.ListedColormap(['purple','lime','teal','limegreen','green', 'tomato','blue' ])  #number of colors has to match labels length unique\n",
        "# myCmap = colors.ListedColormap(['purple','yellow','gold','limegreen','teal','lime','green', 'tomato','olivedrab','orangered','darkgoldenrod','blue','cyan','darkturquoise','khaki','blueviolet','magenta','orchid','yellowgreen','red'])\n",
        "#15 classes\n",
        "#myCmap = colors.ListedColormap(['purple','blue','red','green','teal','yellow','gold','limegreen','teal','lime','green', 'tomato','olivedrab','orangered','darkgoldenrod'])\n",
        "\n",
        "myCmap = colors.ListedColormap(['#993300','green','#009999','#00FF00','#336600','red','#CCCC00','#CC3300','#CC6600','blue','cyan','#4ABDD9','yellow','#CC00CC','#CCFF33','#CCFF33','#00CC99'])"
      ],
      "metadata": {
        "id": "LiTPnuaD3gr-"
      },
      "execution_count": null,
      "outputs": []
    },
    {
      "cell_type": "code",
      "source": [
        "#display the original image and predicted image\n",
        "from rasterio.plot import reshape_as_image,reshape_as_raster\n",
        "#display the original image\n",
        "fig,axs = plt.subplots(1,2,figsize = (14,12))\n",
        "\n",
        "index=np.array([9,7,5]) #9,7,3\n",
        "colors = im_4_predict[index,:,:].astype(np.float64)\n",
        "max_val =1000\n",
        "min_val = 0\n",
        "colors [colors[:,:,:] >max_val]=max_val\n",
        "colors [colors[:,:,:] <min_val]=min_val\n",
        "for b in range(colors.shape[0]):\n",
        "  colors[b,:,:]=colors[b,:,:] *1/(max_val - min_val)\n",
        "print(colors.shape)\n",
        "colors_reshaped = reshape_as_image(colors)\n",
        "colors_reshaped.shape\n",
        "# print(colors_reshaped)\n",
        "axs[0].imshow(colors_reshaped)\n",
        "axs[0].set_title('Original image')\n",
        "\n",
        "#display the classified image result\n",
        "axs[1].imshow(output,myCmap)\n",
        "axs[1].set_title('classified image')"
      ],
      "metadata": {
        "colab": {
          "base_uri": "https://localhost:8080/",
          "height": 388
        },
        "id": "0oLLgGOo94Ht",
        "outputId": "f1ecfea3-0cc4-42fd-c9d6-be9dba72a141"
      },
      "execution_count": null,
      "outputs": [
        {
          "output_type": "stream",
          "name": "stdout",
          "text": [
            "(3, 418, 511)\n"
          ]
        },
        {
          "output_type": "execute_result",
          "data": {
            "text/plain": [
              "Text(0.5, 1.0, 'classified image')"
            ]
          },
          "metadata": {},
          "execution_count": 58
        },
        {
          "output_type": "display_data",
          "data": {
            "text/plain": [
              "<Figure size 1008x864 with 2 Axes>"
            ],
            "image/png": "[encoded data removed]"
          },
          "metadata": {
            "needs_background": "light"
          }
        }
      ]
    },
    {
      "cell_type": "markdown",
      "source": [
        "# *****************************\n",
        "\n",
        "## let's try improve model parameters to increase accuracy"
      ],
      "metadata": {
        "id": "hrc9eEoH0y-2"
      }
    },
    {
      "cell_type": "markdown",
      "source": [
        "## **Step : 9** Hyperparameters tuning for Deep Learning Models in Python\n",
        "\n",
        "#### Using Grid Search in scikit-learn\n",
        "\n",
        "Keras models can be used in scikit-learn by wrapping them with the KerasClassifier or KerasRegressor class. To use these wrappers you must define a function that creates and returns your Keras sequential model, then pass this function to the build_fn argument when constructing the KerasClassifier class\n",
        "\n",
        "How to Use Grid Search in scikit-learn Grid search is a model hyperparameter optimization technique.In scikit-learn this technique is provided in the GridSearchCV class.When constructing this class you must provide a dictionary of hyperparameters to evaluate in the param_grid argument.\n",
        "\n",
        "The constructor for the KerasClassifier class can take default arguments that are passed on to the calls to model.fit(),\n",
        "The batch size in iterative gradient descent is the number of patterns shown to the network before the weights are updated. It is also an optimization in the training of the network, defining how many patterns to read at a time and keep in memory. The number of epochs is the number of times that the entire training dataset is shown to the network during training"
      ],
      "metadata": {
        "id": "M9JQR9nS03_y"
      }
    },
    {
      "cell_type": "code",
      "source": [
        "from keras.constraints import max_norm"
      ],
      "metadata": {
        "id": "XgWyPZ_b98Oj"
      },
      "execution_count": null,
      "outputs": []
    },
    {
      "cell_type": "code",
      "source": [
        "from keras.wrappers.scikit_learn import KerasClassifier\n",
        "from sklearn.model_selection import GridSearchCV\n",
        "# Function to create model, required for KerasClassifier\n",
        "# def create_model( neurons=1):\n",
        "#   #create model\n",
        "#   model = Sequential()\n",
        "#   model.add(layers.Dense(neurons,input_shape=(9,),kernel_initializer='lecun_uniform',activation='sigmoid',kernel_constraint=max_norm(2)))\n",
        "#   model.add(Dropout(0.0))\n",
        "#   model.add(layers.Dense(7,kernel_initializer='lecun_uniform',activation='softmax'))\n",
        "\n",
        "#   #complle model\n",
        "#   # optimizer=SGD(lr=learn_rate,momentum=momentum)\n",
        "#   model.compile(loss='categorical_crossentropy',optimizer='adam',metrics=['accuracy'])\n",
        "#   return model\n",
        "#FOR GRIDSEARCHCV PARAMETER TUNNING ************************\n",
        "#The function below is for parmaeter optimization\n",
        "\n",
        "# Create the INITIAL network\n",
        "#Output layer must have the same number of nodes as like number of classes in case of multi-class classification models.\n",
        "\n",
        "def create_model():\n",
        "  model.add(Dense(512,input_shape=(9,) ,activation='sigmoid') )\n",
        "  model.add(Dense(256,activation='sigmoid'))\n",
        "  model.add(Dense(128,activation='sigmoid'))\n",
        "  model.add(Dense(64,activation='sigmoid'))\n",
        "  model.add(Dense(7,kernel_initializer='lecun_uniform',activation='softmax'))\n",
        "\n",
        "# Compile the network\n",
        "  network.compile(optimizer='adam', loss='categorical_crossentropy', metrics=['accuracy'])\n",
        "  return model"
      ],
      "metadata": {
        "id": "wTzYv6DP1SHh"
      },
      "execution_count": null,
      "outputs": []
    },
    {
      "cell_type": "code",
      "source": [
        "#fix random seed for reproducibility\n",
        "seed =7\n",
        "np.random.seed(seed)\n",
        "#create model\n",
        "# model = KerasClassifier(build_fn=create_model,epochs=100,batch_size=60,verbose=0)\n",
        "model = KerasClassifier(build_fn=create_model,verbose=0)\n",
        "# #define grid search parameteres\n",
        "batch_size=[10,20,40,60,80,100]\n",
        "epochs=[10,100,200]\n",
        "# learn_rate=[0.001,0.01,0.1,0.2,0.3  ]\n",
        "# momentum=[0.0,0.2,0.4,0.6,0.8,0.9]\n",
        "# weight_constraint=[1,2,3,4,5]\n",
        "# dropout_rate=[0.0,0.1,0.2,0.3,0.4,0.5,0.6,0.7,0.8,0.9  ]\n",
        "# neurons =[1,5,10,15,20,25,30]\n",
        "#init_mode=['uniform','lecun_uniform','normal','zero','glorot_normal','glorot_uniform','he_normal','he_uniform']\n",
        "#activation = ['softmax', 'softplus', 'softsign', 'relu', 'tanh', 'sigmoid', 'hard_sigmoid', 'linear']\n",
        "# param_grid=dict(batch_size=batch_size,epochs=epochs)\n",
        "param_grid=dict(batch_size=batch_size,epochs=epochs)\n",
        "grid=GridSearchCV(estimator=model,param_grid=param_grid,n_jobs=-1,cv=3)"
      ],
      "metadata": {
        "id": "UubT_gX81TOG"
      },
      "execution_count": null,
      "outputs": []
    },
    {
      "cell_type": "code",
      "source": [
        "grid_result=grid.fit(XTRAIN, dummy_y_tr, callbacks = [callback_a, callback_b])"
      ],
      "metadata": {
        "id": "AMANi67V1ZkG"
      },
      "execution_count": null,
      "outputs": []
    },
    {
      "cell_type": "code",
      "source": [
        "# summarize results\n",
        "print(\"Best: %f using %s\" % (grid_result.best_score_, grid_result.best_params_))\n",
        "means = grid_result.cv_results_['mean_test_score']\n",
        "stds = grid_result.cv_results_['std_test_score']\n",
        "params = grid_result.cv_results_['params']\n",
        "for mean, stdev, param in zip(means, stds, params):\n",
        "    print(\"%f (%f) with: %r\" % (mean, stdev, param))"
      ],
      "metadata": {
        "id": "VdioNkkm1gpG"
      },
      "execution_count": null,
      "outputs": []
    },
    {
      "cell_type": "markdown",
      "source": [
        "From this output we can see that 'batch_size': 60, 'epochs': 100 achieved the best results gaining 67% accuracy\n",
        "\n",
        "Now, we go back to model and insert these two values\n",
        "\n",
        "In the next step let's find out which optimizer gets best results. After model run 'optimizer': 'Adam'ended up as the best option, even though accuracy stay the same - 67%\n",
        "\n",
        "54% using {'learn_rate': 0.001, 'momentum': 0.0}\n",
        "\n",
        "74%6 using {'init_mode': 'lecun_uniform'}\n",
        "\n",
        "Best: 0.734079 using {'activation': 'sigmoid'\n",
        "\n",
        "Best: 0.715129 using {'dropout_rate': 0.0, 'weight_constraint': 2}\n",
        "\n",
        "Best: 0.702392 using {'neurons': 30}"
      ],
      "metadata": {
        "id": "m9rszbXM1l8F"
      }
    }
  ]
}